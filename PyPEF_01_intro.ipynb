{
  "cells": [
    {
      "cell_type": "markdown",
      "metadata": {
        "id": "view-in-github",
        "colab_type": "text"
      },
      "source": [
        "<a href=\"https://colab.research.google.com/github/aleksejalex/EIEE9E_2025_ZS/blob/main/PyPEF_01_intro.ipynb\" target=\"_parent\"><img src=\"https://colab.research.google.com/assets/colab-badge.svg\" alt=\"Open In Colab\"/></a>"
      ]
    },
    {
      "cell_type": "markdown",
      "metadata": {
        "id": "s4q7C3atSUxs"
      },
      "source": [
        "# PyPEF, lecture 01. Introduction. Basic syntax.\n",
        "\n",
        "Prepared by: Aleksej Gaj ( pythonforstudents24@gmail.com )\n",
        "\n",
        "🔗 Course website: [https://aleksejgaj.cz/pef_python/](https://aleksejgaj.cz/pef_python/)\n",
        "\n",
        "\n",
        "\n"
      ]
    },
    {
      "cell_type": "markdown",
      "metadata": {
        "id": "H77RbxQ9GT3z"
      },
      "source": [
        "In this tutorial we familiarize ourselves with\n",
        " - Google Colaboratory (a.k.a. [Google Colab](https://colab.research.google.com/))\n",
        " - using Python in interactive way in jupyter notebooks (`.ipynb` files)\n",
        " - basic syntax of Python.\n"
      ]
    },
    {
      "cell_type": "markdown",
      "metadata": {
        "id": "Ul3JI4xES-Tq"
      },
      "source": [
        "## Simplicity of basic expressions\n",
        "\n",
        " - in jupyter notebook (`.ipynb` file) every cell (\"piece of code\") is executed independently, but they do share common interpreter (variables and functions introduced once are kept until removed or the kernel is restarted.)\n",
        "\n",
        " 💡️ restart kernel in Google Colab: `Runtime` -> `Restart session`\n",
        "\n"
      ]
    },
    {
      "cell_type": "markdown",
      "metadata": {
        "id": "y2d1OEsXAkcD"
      },
      "source": [
        "## Keywords: less than in some other languages\n"
      ]
    },
    {
      "cell_type": "markdown",
      "metadata": {
        "id": "2gIXYqtnBQ4n"
      },
      "source": [
        "| Keyword     | Description                                         |\n",
        "|-------------|-----------------------------------------------------|\n",
        "| `False`     | Boolean value representing false                    |\n",
        "| `None`      | Represents absence of a value or null               |\n",
        "| `True`      | Boolean value representing true                     |\n",
        "| `and`       | Logical operator 'and'                              |\n",
        "| `as`        | Alias for module import or exception handling       |\n",
        "| `assert`    | Assert statement for debugging                       |\n",
        "| `async`     | Declares asynchronous function                      |\n",
        "| `await`     | Used to await asynchronous function calls           |\n",
        "| `break`     | Breaks out of loop                                  |\n",
        "| `class`     | Defines a class                                     |\n",
        "| `continue`  | Skips the rest of the loop iteration                |\n",
        "| `def`       | Defines a function                                  |\n",
        "| `del`       | Deletes reference to an object                      |\n",
        "| `elif`      | \"Else if\" conditional statement                     |\n",
        "| `else`      | Conditional block executed if if-statement is false |\n",
        "| `except`    | Catches exceptions raised in try block              |\n",
        "| `finally`   | Block of code executed regardless of try-except     |\n",
        "| `for`       | Looping construct for iterating over sequences      |\n",
        "| `from`      | Import specific attributes or functions from module |\n",
        "| `global`    | Declares a global variable                          |\n",
        "| `if`        | Conditional statement                               |\n",
        "| `import`    | Imports modules or specific attributes/functions    |\n",
        "| `in`        | Membership test                                     |\n",
        "| `is`        | Identity test                                       |\n",
        "| `lambda`    | Creates anonymous functions                         |\n",
        "| `nonlocal`  | Declares a nonlocal variable                        |\n",
        "| `not`       | Logical operator 'not'                              |\n",
        "| `or`        | Logical operator 'or'                               |\n",
        "| `pass`      | Null operation, acts as placeholder                 |\n",
        "| `raise`     | Raises an exception                                 |\n",
        "| `return`    | Returns a value from function                       |\n",
        "| `try`       | Defines a block to be tested for errors             |\n",
        "| `while`     | Looping construct for indefinite iteration          |\n",
        "| `with`      | Simplifies exception handling with context managers |\n",
        "| `yield`     | Pauses and resumes generator function               |\n"
      ]
    },
    {
      "cell_type": "markdown",
      "metadata": {
        "id": "UvUBvhNGO0t6"
      },
      "source": [
        "## Comments"
      ]
    },
    {
      "cell_type": "markdown",
      "metadata": {
        "id": "WYMbGJPdds3k"
      },
      "source": [
        "Do comment any code you create, because ..."
      ]
    },
    {
      "cell_type": "markdown",
      "metadata": {
        "id": "eBaRnSfIds3l"
      },
      "source": [
        "<a href=\"https://programmerhumor.io/wp-content/uploads/2023/07/programmerhumor-io-programming-memes-621ef780eec665e.png\"><img src=\"https://programmerhumor.io/wp-content/uploads/2023/07/programmerhumor-io-programming-memes-621ef780eec665e.png?\" alt=\"banner\" width=\"300\"></a>\n",
        "\n",
        "Source: [here](https://programmerhumor.io/programming-memes/please-tell-me-god/)\n",
        "\n",
        "\n",
        "<a href=\"https://aleksejalex.4fan.cz/imgsbin/uploads/do_comment_your_code.jpeg\"><img src=\"https://aleksejalex.4fan.cz/imgsbin/uploads/do_comment_your_code.jpeg\" alt=\"banner\" width=\"300\"></a>\n"
      ]
    },
    {
      "cell_type": "markdown",
      "metadata": {
        "id": "uUB0o_eQds3m"
      },
      "source": [
        "Line comment (When reading your code, Python will ignore anything beyond the `#` symbol):"
      ]
    },
    {
      "cell_type": "code",
      "execution_count": null,
      "metadata": {
        "id": "1OtVNzi2O4fv"
      },
      "outputs": [],
      "source": [
        "a = 1 # this is inline comment"
      ]
    },
    {
      "cell_type": "markdown",
      "metadata": {
        "id": "317z2-H7PM4K"
      },
      "source": [
        "Python does not have multi-line comments, so string is frequently used for this purpose (separated via triple apostrophs):"
      ]
    },
    {
      "cell_type": "code",
      "execution_count": null,
      "metadata": {
        "id": "VVPdQjClO9ij"
      },
      "outputs": [],
      "source": [
        "\"\"\" This is block comment \"\"\"\n",
        "\n",
        "\"\"\"\n",
        "This is also\n",
        "block comment\n",
        "on several lines\n",
        "\"\"\""
      ]
    },
    {
      "cell_type": "markdown",
      "metadata": {
        "id": "xxsR0f-zPvtL"
      },
      "source": [
        "Note. Strings above were printed - jupyter notebook causes this behaviour. These won't be printed out when running scripts (`.py`)."
      ]
    },
    {
      "cell_type": "markdown",
      "metadata": {
        "id": "xSH-pS0KQbXf"
      },
      "source": [
        "## Defining variables. Output (function `print`)."
      ]
    },
    {
      "cell_type": "markdown",
      "metadata": {
        "id": "CRJMHE_bds3q"
      },
      "source": [
        "Defining a numerical variable (as easy as it could be):"
      ]
    },
    {
      "cell_type": "code",
      "execution_count": null,
      "metadata": {
        "id": "-Xz8CSDBS0ke"
      },
      "outputs": [],
      "source": [
        "a=2\n",
        "print(a)"
      ]
    },
    {
      "cell_type": "code",
      "execution_count": null,
      "metadata": {
        "id": "ewc5QD2RBmHz"
      },
      "outputs": [],
      "source": [
        "print(f\"Variable 'a' is equal to {a}.\")  # print using f-string"
      ]
    },
    {
      "cell_type": "code",
      "execution_count": null,
      "metadata": {
        "id": "955iGc50Oqxo"
      },
      "outputs": [],
      "source": [
        "pef = \"Provozne ekonomicka fakulta\"\n",
        "print(pef)"
      ]
    },
    {
      "cell_type": "code",
      "execution_count": null,
      "metadata": {
        "id": "YNFYPaTUS0hu"
      },
      "outputs": [],
      "source": [
        "b = ( 10 + a ) / 6"
      ]
    },
    {
      "cell_type": "code",
      "execution_count": null,
      "metadata": {
        "id": "xbI_H-JYQpc-"
      },
      "outputs": [],
      "source": [
        "b  # when single varible called in iPython (notebook), it's printed out automatically"
      ]
    },
    {
      "cell_type": "markdown",
      "metadata": {
        "id": "xNVjBCAiF5Jc"
      },
      "source": [
        " - Python can handle very big numbers with ease:"
      ]
    },
    {
      "cell_type": "code",
      "execution_count": null,
      "metadata": {
        "id": "NNKfiSIpF4q4"
      },
      "outputs": [],
      "source": [
        "c = 999**999\n",
        "print(f\"c = {c}\")  # remember it's still INT !"
      ]
    },
    {
      "cell_type": "markdown",
      "metadata": {
        "id": "Pd0_myS9ds3t"
      },
      "source": [
        "💡 Two stars `**` note power in Python: `2**2` means $2^{2}$."
      ]
    },
    {
      "cell_type": "markdown",
      "metadata": {
        "id": "SlHD4aO7ds3t"
      },
      "source": [
        "👉 You can try it yourself! Use Python as a simple calculator with operations like `1+2`, `3-2`, `3**3`, ...\n",
        "\n"
      ]
    },
    {
      "cell_type": "code",
      "execution_count": null,
      "metadata": {
        "id": "BcBYFPzPds3t"
      },
      "outputs": [],
      "source": [
        "# try it"
      ]
    },
    {
      "cell_type": "markdown",
      "metadata": {
        "id": "97QskfavQ59E"
      },
      "source": [
        "## Types of variables (`type`)."
      ]
    },
    {
      "cell_type": "markdown",
      "metadata": {
        "id": "YsipE2UAds3u"
      },
      "source": [
        "Every variable has a specific type.\n",
        "\n",
        " - A **variable** in Python is a name that stores data values, like numbers or text.\n",
        "    > **variable** is an abstract storage location paired with an associated symbolic name, which contains some known or unknown quantity of data or object referred to as a *value*; or in simpler terms, a variable is a *named container* for a particular set of bits or type of data (like integer, float, string, etc...).\n",
        "\n",
        " - The **variable type** defines the kind of data a variable holds, such as `int` for numbers or `str` for text.\n",
        " - Python automatically detects the type when you assign a value."
      ]
    },
    {
      "cell_type": "markdown",
      "metadata": {
        "id": "4x3tGqCavtVy"
      },
      "source": [
        "| Type         | Description                                | Example                   |\n",
        "|--------------|--------------------------------------------|---------------------------|\n",
        "| int          | Integer values                             | `x = 5`                   |\n",
        "| float        | Floating-point numbers                     | `y = 3.14`                |\n",
        "| complex      | Complex numbers                            | `z = 2 + 3j`              |\n",
        "| bool         | Boolean values (True/False)                | `is_it_raining = False`         |\n",
        "| str          | String values                              | `message = \"Hello, World\"`|\n",
        "| list         | Ordered collection of items                | `my_list = [1, 2, 3]`     |\n",
        "| tuple        | Immutable ordered collection of items      | `my_tuple = (1, 2, 3)`    |\n",
        "| set          | Unordered collection of unique items       | `my_set = {1, 2, 3}`      |\n",
        "| dict         | Collection of key-value pairs              | `my_dict = {'eggs': 6, 'apples': 3, 'cookies': \"chocolate\"}`|\n"
      ]
    },
    {
      "cell_type": "code",
      "execution_count": null,
      "metadata": {
        "id": "kMsRaCgZds3u"
      },
      "outputs": [],
      "source": [
        "print(a)"
      ]
    },
    {
      "cell_type": "code",
      "execution_count": null,
      "metadata": {
        "id": "bIV306PAS0fH"
      },
      "outputs": [],
      "source": [
        "print(type(a))"
      ]
    },
    {
      "cell_type": "code",
      "execution_count": null,
      "metadata": {
        "id": "L8MeGdpxRCvl"
      },
      "outputs": [],
      "source": [
        "print(type(b))"
      ]
    },
    {
      "cell_type": "code",
      "execution_count": null,
      "metadata": {
        "id": "gQ_9EzbGRFa5"
      },
      "outputs": [],
      "source": [
        "print(type(pef))"
      ]
    },
    {
      "cell_type": "markdown",
      "metadata": {
        "id": "Ku2FsWT6RMzn"
      },
      "source": [
        "Python is very tolerant when autotyping:"
      ]
    },
    {
      "cell_type": "code",
      "execution_count": null,
      "metadata": {
        "id": "MyKovydJRS7A"
      },
      "outputs": [],
      "source": [
        "a + b  # sum of int and float"
      ]
    },
    {
      "cell_type": "code",
      "execution_count": null,
      "metadata": {
        "id": "MfBfwp0LRS1J"
      },
      "outputs": [],
      "source": [
        "czu = 'Ceska zemedelska universita'\n",
        "pef + czu  # sum of two strings (a.k.a. concatenation)"
      ]
    },
    {
      "cell_type": "code",
      "execution_count": null,
      "metadata": {
        "id": "M0dRrulvRSv6"
      },
      "outputs": [],
      "source": [
        "print(f'I study at {pef}, {czu}.')"
      ]
    },
    {
      "cell_type": "code",
      "execution_count": null,
      "metadata": {
        "id": "wicde9rPRnXj"
      },
      "outputs": [],
      "source": [
        "print(a + pef) # but even Python's patience has its limits"
      ]
    },
    {
      "cell_type": "markdown",
      "metadata": {
        "id": "uY5TkM12R3f3"
      },
      "source": [
        "The error above can be avoided with **retyping variables**:"
      ]
    },
    {
      "cell_type": "code",
      "execution_count": null,
      "metadata": {
        "id": "Fq5MqzlXR2cI"
      },
      "outputs": [],
      "source": [
        "a_str = str(a)\n",
        "print(f\"type of a is {type(a)}, but type of a_str is {type(a_str)}.\")"
      ]
    },
    {
      "cell_type": "code",
      "execution_count": null,
      "metadata": {
        "id": "-2nAK3u_SI9Z"
      },
      "outputs": [],
      "source": [
        "pef + a_str  # now we can concatenate two strings"
      ]
    },
    {
      "cell_type": "markdown",
      "metadata": {
        "id": "uPqFOZoQxExZ"
      },
      "source": [
        "## Input"
      ]
    },
    {
      "cell_type": "code",
      "execution_count": null,
      "metadata": {
        "id": "3EFZeIuPGJcF"
      },
      "outputs": [],
      "source": [
        "user_name = input(\"Enter your name --> \")\n",
        "print(f'You entered: {user_name}.')"
      ]
    },
    {
      "cell_type": "markdown",
      "metadata": {
        "id": "St_qOLCcds3z"
      },
      "source": [
        "### ✍️ Your turn:\n",
        "**task:** write a code that will\n",
        " - ask user to enter his/her name and save it\n",
        " - ask user to enter his/her year of birth and save it\n",
        " - print out how old the user is (in years)"
      ]
    },
    {
      "cell_type": "code",
      "execution_count": null,
      "metadata": {
        "id": "LvQP9ojBGJYo"
      },
      "outputs": [],
      "source": [
        "# your code here ..."
      ]
    },
    {
      "cell_type": "markdown",
      "metadata": {
        "id": "G4saXuPJ1nEK"
      },
      "source": [
        "## Packages - how to import and work with them\n",
        "\n",
        " - a package in Python can contain variables, functions, ... basically any object\n",
        " - some are built-in, most of them needs to be installed\n",
        " - library of all packages available: [https://pypi.org/](https://pypi.org/)\n",
        " - in Colab, some popular libraries are pre-installed. Other you can install with `!pip install <package_name>`\n",
        "\n",
        "\n"
      ]
    },
    {
      "cell_type": "code",
      "execution_count": null,
      "metadata": {
        "id": "ul4yMQxdGJWC"
      },
      "outputs": [],
      "source": [
        "import math  # import of package 'math'"
      ]
    },
    {
      "cell_type": "code",
      "execution_count": null,
      "metadata": {
        "id": "04WWcw7yGJTw"
      },
      "outputs": [],
      "source": [
        "print(math.pi)  # variable form package"
      ]
    },
    {
      "cell_type": "markdown",
      "metadata": {
        "id": "ED29xjTy3b6F"
      },
      "source": [
        " - some packages have long name -> when importing, we can rename them:"
      ]
    },
    {
      "cell_type": "code",
      "execution_count": null,
      "metadata": {
        "id": "u88EgSah3FRx"
      },
      "outputs": [],
      "source": [
        "import math as mt\n",
        "print(mt.pi)"
      ]
    },
    {
      "cell_type": "markdown",
      "metadata": {
        "id": "GzS5TKAR3wgi"
      },
      "source": [
        " - when we need a specific object from a package, we can import only the object(s):"
      ]
    },
    {
      "cell_type": "code",
      "execution_count": null,
      "metadata": {
        "id": "MUSj92De3FLO"
      },
      "outputs": [],
      "source": [
        "from math import sin, pi"
      ]
    },
    {
      "cell_type": "code",
      "execution_count": null,
      "metadata": {
        "id": "XiiDtuU43FEf"
      },
      "outputs": [],
      "source": [
        "# now we can use imported objects directly:\n",
        "print( sin(pi/2) )"
      ]
    },
    {
      "cell_type": "markdown",
      "metadata": {
        "id": "vXBk9MqyCrBG"
      },
      "source": [
        "## Conditions. Boolean variables.\n",
        "\n",
        " - compound statement (which begins a condition, a cycle, a definition of function or a class) begins with **keyword**, line ends with **colon**, and the block of code inside is **idented via spaces** (ie. no `begin-end`, no `(...){...}`, etc. are needed in Python -> makes code more readable). \\\n",
        " Example:\n",
        "\n"
      ]
    },
    {
      "cell_type": "code",
      "execution_count": null,
      "metadata": {
        "id": "gGy5Sh7f3E-g"
      },
      "outputs": [],
      "source": [
        "if a > 3:\n",
        "    print(f\"a is greater than 3.\")\n",
        "else:\n",
        "    print(f\"a isn't greater than 3.\")"
      ]
    },
    {
      "cell_type": "markdown",
      "metadata": {
        "id": "rA_HsmmuDq7d"
      },
      "source": [
        " - level of indentation can be any of your choice, but should be consistent\n",
        " - **Good convention is 4 spaces.**"
      ]
    },
    {
      "cell_type": "markdown",
      "metadata": {
        "id": "e48O5C7QE-5W"
      },
      "source": [
        " - Python does not have any `switch-case` formalism, `if-elif-else` is all you need:"
      ]
    },
    {
      "cell_type": "code",
      "execution_count": null,
      "metadata": {
        "id": "XNuI_vvK3E4h"
      },
      "outputs": [],
      "source": [
        "# let's force a 5 y.o. child to count on fingers\n",
        "a = 5  # target number\n",
        "if a > 10:\n",
        "    print(\"Not enough fingers for this.\")\n",
        "elif a > 5:\n",
        "    print(\"I need both hands for this computation.\")\n",
        "elif a >= 0:\n",
        "    print(\"I can compute it on one hand.\")\n",
        "else:\n",
        "    print(\"I don't know what negative number is.\")"
      ]
    },
    {
      "cell_type": "markdown",
      "metadata": {
        "id": "_8Pr8TVsds32"
      },
      "source": [
        "### ✍️ Your turn:\n",
        "**task:** write a code that will ask to enter year of birth of the user and return if the year is odd or even"
      ]
    },
    {
      "cell_type": "markdown",
      "metadata": {
        "id": "_h2xbrA9ds32"
      },
      "source": [
        "💡 Hint: `x % y` gives the remainder after dividing `x` by `y`."
      ]
    },
    {
      "cell_type": "code",
      "execution_count": null,
      "metadata": {
        "id": "fOls1gHDds32"
      },
      "outputs": [],
      "source": [
        "# your code here ..."
      ]
    },
    {
      "cell_type": "markdown",
      "metadata": {
        "id": "-XqDl-okHMaM"
      },
      "source": [
        "## Logical operators, boolean values.\n",
        "\n",
        "| Keyword/Operator | Description                                             |\n",
        "|------------------|---------------------------------------------------------|\n",
        "| `True`           | Represents the boolean value true                       |\n",
        "| `False`          | Represents the boolean value false                      |\n",
        "| `and`            | Logical operator 'and' - Returns True if both operands are true, otherwise False |\n",
        "| `or`             | Logical operator 'or' - Returns True if at least one operand is true, otherwise False |\n",
        "| `not`            | Logical operator 'not' - Returns the opposite of the operand's boolean value |\n"
      ]
    },
    {
      "cell_type": "markdown",
      "metadata": {
        "id": "YMSCBxITds33"
      },
      "source": [
        "Note the capital letters in bool values."
      ]
    },
    {
      "cell_type": "code",
      "execution_count": null,
      "metadata": {
        "id": "g2k52z9tds33"
      },
      "outputs": [],
      "source": [
        "not True"
      ]
    },
    {
      "cell_type": "code",
      "execution_count": null,
      "metadata": {
        "id": "pozhWNHKds33"
      },
      "outputs": [],
      "source": [
        "not False"
      ]
    },
    {
      "cell_type": "code",
      "execution_count": null,
      "metadata": {
        "id": "cFncwIVI3Era"
      },
      "outputs": [],
      "source": [
        "True and False"
      ]
    },
    {
      "cell_type": "code",
      "execution_count": null,
      "metadata": {
        "id": "s5QAi2Qcds34"
      },
      "outputs": [],
      "source": [
        "True or False"
      ]
    },
    {
      "cell_type": "code",
      "execution_count": null,
      "metadata": {
        "id": "GV34W6Ayds34"
      },
      "outputs": [],
      "source": []
    },
    {
      "cell_type": "code",
      "execution_count": null,
      "metadata": {
        "id": "MdOPucx83Elp"
      },
      "outputs": [],
      "source": []
    },
    {
      "cell_type": "code",
      "execution_count": null,
      "metadata": {
        "id": "hpAL0rFG3Edq"
      },
      "outputs": [],
      "source": []
    },
    {
      "cell_type": "code",
      "execution_count": null,
      "metadata": {
        "id": "6qHCslIDGJRC"
      },
      "outputs": [],
      "source": []
    },
    {
      "cell_type": "code",
      "execution_count": null,
      "metadata": {
        "id": "zOflObAqGJLj"
      },
      "outputs": [],
      "source": []
    },
    {
      "cell_type": "markdown",
      "metadata": {
        "id": "0Nscmeu8Clmf"
      },
      "source": [
        "## P.S."
      ]
    },
    {
      "cell_type": "markdown",
      "metadata": {
        "id": "HkdyqnY0Rit0"
      },
      "source": [
        "All keywords in Python are:"
      ]
    },
    {
      "cell_type": "code",
      "execution_count": null,
      "metadata": {
        "id": "z0Hh01tYS0T5"
      },
      "outputs": [],
      "source": [
        "import keyword\n",
        "\n",
        "def print_all_keywords():\n",
        "    \"\"\"\n",
        "    function that gets a list of all Python keywords and prints it out.\n",
        "    \"\"\"\n",
        "    keywords = keyword.kwlist\n",
        "    for kw in keywords:\n",
        "        print(kw)\n",
        "    return None  # optional\n",
        "\n",
        "print_all_keywords()"
      ]
    },
    {
      "cell_type": "markdown",
      "metadata": {
        "id": "odEps7-yRit0"
      },
      "source": [
        "(Remember: it does not include any imported or introduced objects.)"
      ]
    },
    {
      "cell_type": "markdown",
      "metadata": {
        "id": "5Lt3prioRit0"
      },
      "source": [
        "Key idea of Python, kept as a part of Python interpreter:"
      ]
    },
    {
      "cell_type": "code",
      "execution_count": null,
      "metadata": {
        "id": "SgnGLEW8SR72"
      },
      "outputs": [],
      "source": [
        "import this"
      ]
    },
    {
      "cell_type": "code",
      "execution_count": null,
      "metadata": {
        "id": "gz9wHvMNRit1"
      },
      "outputs": [],
      "source": []
    }
  ],
  "metadata": {
    "colab": {
      "provenance": [],
      "generative_ai_disabled": true,
      "include_colab_link": true
    },
    "kernelspec": {
      "display_name": "Python 3",
      "name": "python3"
    },
    "language_info": {
      "codemirror_mode": {
        "name": "ipython",
        "version": 3
      },
      "file_extension": ".py",
      "mimetype": "text/x-python",
      "name": "python",
      "nbconvert_exporter": "python",
      "pygments_lexer": "ipython3",
      "version": "3.12.1"
    }
  },
  "nbformat": 4,
  "nbformat_minor": 0
}