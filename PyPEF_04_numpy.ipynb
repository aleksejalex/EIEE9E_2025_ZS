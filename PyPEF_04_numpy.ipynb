{
  "cells": [
    {
      "cell_type": "markdown",
      "metadata": {
        "id": "view-in-github",
        "colab_type": "text"
      },
      "source": [
        "<a href=\"https://colab.research.google.com/github/aleksejalex/EIEE9E_2025_ZS/blob/main/PyPEF_04_numpy.ipynb\" target=\"_parent\"><img src=\"https://colab.research.google.com/assets/colab-badge.svg\" alt=\"Open In Colab\"/></a>"
      ]
    },
    {
      "cell_type": "markdown",
      "metadata": {
        "id": "BJ38-zM8iNpQ"
      },
      "source": [
        "# EIEE9E, lecture 04. Numerical computations in Python: package NumPy.\n",
        "\n",
        "Prepared by: Aleksej Gaj ( pythonforstudents24@gmail.com )\n",
        "\n",
        "🔗 Course website: [https://aleksejgaj.cz/pef_python/](https://aleksejgaj.cz/pef_python/)\n"
      ]
    },
    {
      "cell_type": "markdown",
      "metadata": {
        "id": "ZEI2YaSwiPFc"
      },
      "source": [
        "In this tutorial we familiarize ourselves with\n",
        " - library NumPy: general philosophy, arrays, operations on them, functions\n"
      ]
    },
    {
      "cell_type": "markdown",
      "metadata": {
        "id": "wEIHfEJeBtWE"
      },
      "source": [
        "### Solution of the task from previous notebook:\n",
        "**task was:** write a function that will take a list of numbers, test whether list contains numbers only (only type `int` and `float` is allowed) and will return median of those numbers.\n",
        "  "
      ]
    },
    {
      "cell_type": "code",
      "execution_count": null,
      "metadata": {
        "id": "_nvxZ7eRSZGs"
      },
      "outputs": [],
      "source": [
        "def calculate_median(numbers:list):\n",
        "    valid_numbers = []\n",
        "    for num in numbers:\n",
        "        if isinstance(num, (int, float)):  # also composed condition comparing types is possible\n",
        "            valid_numbers.append(num)\n",
        "\n",
        "    valid_numbers.sort()\n",
        "    length = len(valid_numbers)\n",
        "\n",
        "    if length == 0:\n",
        "        return None\n",
        "    elif length % 2 == 0:\n",
        "        middle = length // 2\n",
        "        return (valid_numbers[middle - 1] + valid_numbers[middle]) / 2\n",
        "    else:\n",
        "        return valid_numbers[length // 2]\n",
        "\n",
        "# Example usage:\n",
        "number_list = [1000, 2.5, 3, 4, 5, 10, 2000]\n",
        "#number_list = [1, 2, 3, 4]\n",
        "median = calculate_median(number_list)\n",
        "print(\"Median:\", median)\n"
      ]
    },
    {
      "cell_type": "markdown",
      "source": [
        "#### 🔥 Strange result (could be) observed:"
      ],
      "metadata": {
        "id": "RNGC_TUoBAme"
      }
    },
    {
      "cell_type": "code",
      "source": [
        "10*25.37"
      ],
      "metadata": {
        "id": "62T5U3krBLO2"
      },
      "execution_count": null,
      "outputs": []
    },
    {
      "cell_type": "markdown",
      "source": [
        "Why it that? 🤔"
      ],
      "metadata": {
        "id": "dUjr47E0BUdB"
      }
    },
    {
      "cell_type": "markdown",
      "source": [
        "Python (like many programming languages) uses a [standard IEEE 754](https://en.wikipedia.org/wiki/IEEE_754) to represent floating-point numbers, which means **represent any numbers in binary format**\n",
        "\n",
        "The result of `10 * 25.37` can't be represented exactly in binary. The closest binary approximation is the reason why we see a number like 253.70000000000002.\n"
      ],
      "metadata": {
        "id": "DSanNFO3BtAM"
      }
    },
    {
      "cell_type": "markdown",
      "source": [
        "Possible but very *rare* fix:"
      ],
      "metadata": {
        "id": "h8Pgm4ZmCzNo"
      }
    },
    {
      "cell_type": "code",
      "source": [
        "from decimal import Decimal\n",
        "\n",
        "result = Decimal('10') * Decimal('25.37')\n",
        "print(result)"
      ],
      "metadata": {
        "id": "80EUGe0cCtUt"
      },
      "execution_count": null,
      "outputs": []
    },
    {
      "cell_type": "markdown",
      "source": [
        "More common fix: **rounding**"
      ],
      "metadata": {
        "id": "GwL4Bcz-C5Ir"
      }
    },
    {
      "cell_type": "code",
      "source": [
        "result = 10 * 25.37\n",
        "print(f\"{result:.2f}\")   # 2 means 2 places after decimal point"
      ],
      "metadata": {
        "id": "kfX9-O_oDAoa"
      },
      "execution_count": null,
      "outputs": []
    },
    {
      "cell_type": "markdown",
      "source": [
        "...and this is also the way to show the error of binary aproximation:"
      ],
      "metadata": {
        "id": "a4n7KsMBDOJi"
      }
    },
    {
      "cell_type": "code",
      "source": [
        "result = 10 * 25.37\n",
        "print(f\"{result:.40f}\")"
      ],
      "metadata": {
        "id": "TTwYol2gDVS2"
      },
      "execution_count": null,
      "outputs": []
    },
    {
      "cell_type": "markdown",
      "metadata": {
        "id": "CsS_W8B1BtV5"
      },
      "source": [
        "## 🕓 Recall: containers.\n",
        "Python uses several containers:\n",
        " - list\n",
        "\n",
        "\n",
        "| Type         | Description                                | Example                   |\n",
        "|--------------|--------------------------------------------|---------------------------|\n",
        "| list         | Ordered collection of items                | `my_list = [1, 2, 3]`     |\n",
        "| tuple        | Immutable ordered collection of items      | `my_tuple = (1, 2, 3)`    |\n",
        "| set          | Unordered collection of unique items       | `my_set = {1, 2, 3}`      |\n",
        "| dict         | Collection of key-value pairs              | `my_dict = {'eggs': 6, 'apples': 3, 'cookies': \"chocolate\"}`|\n"
      ]
    },
    {
      "cell_type": "code",
      "execution_count": null,
      "metadata": {
        "id": "C_aSZ5CoKr7r"
      },
      "outputs": [],
      "source": []
    },
    {
      "cell_type": "markdown",
      "metadata": {
        "id": "RihzJYIrcs4Z"
      },
      "source": [
        "## 🕓 Technical recall 1: printing objects\n",
        "\n",
        "We already know that there are (at least) 2 ways to print out variable:\n",
        " - via command `print()`\n",
        " - by leaving the variable on the last line of a cell\n",
        "\n",
        "First way is universal, it works always. The second is *specific to jupyter notebooks*.\n",
        "(It means if you would leave just a variable in a script, nothing will happen.)\n",
        "\n",
        "But what actually happens? Since we have seen what do the objects look like and we know everything is treated as object in Python, we understand that there should be some function triggered in behind of all this.\n",
        "\n",
        "Let's have a look:\n"
      ]
    },
    {
      "cell_type": "code",
      "execution_count": null,
      "metadata": {
        "id": "EH4Hnrowcsb_"
      },
      "outputs": [],
      "source": [
        "class Cat:\n",
        "    def __init__(self, weight = 10):\n",
        "        self.weight = weight\n",
        "\n",
        "    def __repr__(self):\n",
        "        # string representation of the object\n",
        "        # this fction is called when object is called in ipython (just variable in notebook)\n",
        "        return f'Just a cat with weight of {self.weight} kg'\n",
        "\n",
        "    def __str__(self):\n",
        "        # string representation of object's value\n",
        "        # this fction is called when object is being printed\n",
        "        return f'This cat was printed, meow 🐾'"
      ]
    },
    {
      "cell_type": "code",
      "execution_count": null,
      "metadata": {
        "id": "363EzQ4ac9q-"
      },
      "outputs": [],
      "source": [
        "my_cat = Cat()"
      ]
    },
    {
      "cell_type": "code",
      "execution_count": null,
      "metadata": {
        "id": "h-kigbYTdYJF"
      },
      "outputs": [],
      "source": [
        "my_cat"
      ]
    },
    {
      "cell_type": "code",
      "execution_count": null,
      "metadata": {
        "id": "V8SdzLp5daCv"
      },
      "outputs": [],
      "source": [
        "print(my_cat)"
      ]
    },
    {
      "cell_type": "markdown",
      "source": [
        "So:\n",
        " - function `__repr__` is **string representation of the object itself**\n",
        " - function `__str__` is **string representation of the object's value**\n"
      ],
      "metadata": {
        "id": "X5vnVgpEmlHJ"
      }
    },
    {
      "cell_type": "markdown",
      "source": [
        "#### Why to bother? 🤨\n",
        "\n",
        "Just explaining scenarios when `print(a)` and leaving just `a` at the end of a cell brings different results (see this behaviour with `numpy.array` below)."
      ],
      "metadata": {
        "id": "3H1StVfQPfuh"
      }
    },
    {
      "cell_type": "markdown",
      "metadata": {
        "id": "yH_KW0TbViu1"
      },
      "source": [
        "## 🕓 Technical recall 2: how to import packages and how to use them"
      ]
    },
    {
      "cell_type": "code",
      "execution_count": null,
      "metadata": {
        "id": "fz_d2YTtXTiY"
      },
      "outputs": [],
      "source": [
        "# keyword of interactive python (iPython), which runs .ipynb notebooks\n",
        "%whos"
      ]
    },
    {
      "cell_type": "markdown",
      "metadata": {
        "id": "IcaiyGxnVqP3"
      },
      "source": [
        "3 ways how to import in Python:"
      ]
    },
    {
      "cell_type": "code",
      "execution_count": null,
      "metadata": {
        "id": "ArRLrdN3Vofq"
      },
      "outputs": [],
      "source": [
        "# 1. directly (usually ineficient)\n",
        "import math"
      ]
    },
    {
      "cell_type": "code",
      "execution_count": null,
      "metadata": {
        "id": "pN0MIcAl6409"
      },
      "outputs": [],
      "source": [
        "%whos"
      ]
    },
    {
      "cell_type": "markdown",
      "metadata": {
        "id": "ZFqn35AC69FS"
      },
      "source": [
        "✨ We see there `math` as object of type `module`."
      ]
    },
    {
      "cell_type": "code",
      "execution_count": null,
      "metadata": {
        "id": "WNQy0S4LV5Ie"
      },
      "outputs": [],
      "source": [
        "math.cos(2 * math.pi)"
      ]
    },
    {
      "cell_type": "code",
      "execution_count": null,
      "metadata": {
        "id": "LuPpp3x9Vobn"
      },
      "outputs": [],
      "source": [
        "# 2. via reference (most common, highly recomended)\n",
        "import math as mt"
      ]
    },
    {
      "cell_type": "code",
      "execution_count": null,
      "metadata": {
        "id": "0de3kXivVoSX"
      },
      "outputs": [],
      "source": [
        "mt.cos(2 * mt.pi)"
      ]
    },
    {
      "cell_type": "code",
      "execution_count": null,
      "metadata": {
        "id": "hDpD-ACFWH6o"
      },
      "outputs": [],
      "source": [
        "# 3. selectively (good in cases, when you need only one/two objects from the library)\n",
        "from math import cos, pi"
      ]
    },
    {
      "cell_type": "code",
      "execution_count": null,
      "metadata": {
        "id": "Ob_YIVYIWxS5"
      },
      "outputs": [],
      "source": [
        "cos(2*pi)"
      ]
    },
    {
      "cell_type": "code",
      "execution_count": null,
      "metadata": {
        "id": "d8fVtzoGWH1r"
      },
      "outputs": [],
      "source": [
        "# 4. everything from library (NOT recomended, unless you import something small or you really need all objects inside)\n",
        "from math import *"
      ]
    },
    {
      "cell_type": "code",
      "execution_count": null,
      "metadata": {
        "id": "V8JXKVhhWe5m"
      },
      "outputs": [],
      "source": [
        "%whos"
      ]
    },
    {
      "cell_type": "code",
      "execution_count": null,
      "metadata": {
        "id": "qWs6Sx62XI-P"
      },
      "outputs": [],
      "source": []
    },
    {
      "cell_type": "markdown",
      "metadata": {
        "id": "pmaQMv8gSZG3"
      },
      "source": [
        "## NumPy: Numerical Python\n",
        "\n",
        "<img src=\"https://numpy.org/doc/stable/_static/numpylogo.svg\" alt=\"logo\" width=\"400\">\n",
        "\n",
        "[documentation](https://numpy.org/)"
      ]
    },
    {
      "cell_type": "markdown",
      "metadata": {
        "id": "FUCSn4iASZG4"
      },
      "source": [
        "= library created to work with *numerical data*:\n",
        "\n",
        " - effectively stores and operates with high-dimensional data structures (**arrays** - like vectors and matrices)\n",
        " - implements mathematical operations on those arrays"
      ]
    },
    {
      "cell_type": "code",
      "execution_count": null,
      "metadata": {
        "id": "hJ3VcPviSZG5"
      },
      "outputs": [],
      "source": [
        "# import\n",
        "import numpy as np"
      ]
    },
    {
      "cell_type": "markdown",
      "metadata": {
        "id": "b9dUHNKeZvMq"
      },
      "source": [
        "### Array - basic type of variable in NumPy\n",
        "\n",
        " - very similar to vector/matrix in algebra\n",
        " - type of variable: `ndarray`"
      ]
    },
    {
      "cell_type": "markdown",
      "metadata": {
        "id": "zNJgRureaqrC"
      },
      "source": [
        "| Feature                          | Python Lists (`list`)                                 | NumPy Arrays (`ndarray`)                                 |\n",
        "|----------------------------------|-----------------------------------------------|----------------------------------------------|\n",
        "| Data Types                       | Can contain elements of different data types  | Homogeneous data type ⚠️                       |\n",
        "| Performance                      | Slower for large datasets                     | Faster for large datasets                    |\n",
        "| Mathematical Operations          | Limited functionality for mathematical ops    | Rich set of mathematical operations         |\n",
        "| Indexing and Slicing             | Basic indexing and slicing                    | Advanced indexing and slicing                |\n",
        "| Iteration                        | Basic iteration                                | Vectorized operations                        |\n",
        "| Memory Efficiency                | Less memory efficient                         | More memory efficient                        |\n"
      ]
    },
    {
      "cell_type": "markdown",
      "metadata": {
        "id": "Soes9EdrZ64m"
      },
      "source": [
        "Example:\n",
        "\n",
        "$$ \\vec{v} = \\begin{pmatrix} 1 \\\\ 2 \\\\ 3 \\\\ 4 \\end{pmatrix} $$"
      ]
    },
    {
      "cell_type": "code",
      "execution_count": null,
      "metadata": {
        "id": "JEnGGgOtSZG5"
      },
      "outputs": [],
      "source": [
        "v = np.array([1,2,3,4])\n",
        "\n",
        "v"
      ]
    },
    {
      "cell_type": "code",
      "execution_count": null,
      "metadata": {
        "id": "hvByxQluf4rk"
      },
      "outputs": [],
      "source": [
        "print(v)"
      ]
    },
    {
      "cell_type": "code",
      "execution_count": null,
      "metadata": {
        "id": "JqKLXPDoj8pr"
      },
      "outputs": [],
      "source": [
        "type(v)"
      ]
    },
    {
      "cell_type": "markdown",
      "metadata": {
        "id": "VTXKrVyjbAtR"
      },
      "source": [
        "NumPy's array can be created:\n",
        " - from Python container - like `list` or `tuple`\n",
        " - via some NumPy function (for example `np.zeros`)\n",
        " - by loading from file\n",
        "\n"
      ]
    },
    {
      "cell_type": "code",
      "execution_count": null,
      "metadata": {
        "id": "InFXvhBzbn-_"
      },
      "outputs": [],
      "source": [
        "mylist = [1,2,3]   # Python's \"native\" list\n",
        "arr_from_list = np.array(mylist)\n",
        "\n",
        "print(arr_from_list)\n",
        "print(mylist)"
      ]
    },
    {
      "cell_type": "markdown",
      "metadata": {
        "id": "2xhhmfT6cCgA"
      },
      "source": [
        "🗒️ Note: `list` is printed with commas while `np.array` is printed without them."
      ]
    },
    {
      "cell_type": "markdown",
      "metadata": {
        "id": "pcqMsGJmgI9j"
      },
      "source": [
        "2-D array (matrix):\n",
        "\n",
        "$$\n",
        "\\mathbb{A} = \\begin{pmatrix}\n",
        "1 & 2 & 3 \\\\\n",
        "4 & 5 & 6 \\\\\n",
        "7 & 8 & 9 \\\\\n",
        "\\end{pmatrix} $$"
      ]
    },
    {
      "cell_type": "code",
      "execution_count": null,
      "metadata": {
        "id": "0ybTkYdEgm1p"
      },
      "outputs": [],
      "source": [
        "A = np.array([[1,2,3], [4,5,6], [7,8,9]])\n",
        "\n",
        "A"
      ]
    },
    {
      "cell_type": "markdown",
      "metadata": {
        "id": "hLdhkFBG6ELr"
      },
      "source": [
        "Matrix transposition:"
      ]
    },
    {
      "cell_type": "code",
      "execution_count": null,
      "metadata": {
        "id": "IM8YdUUDg1yd"
      },
      "outputs": [],
      "source": [
        "A.T"
      ]
    },
    {
      "cell_type": "markdown",
      "metadata": {
        "id": "zLaK8L4LgGsw"
      },
      "source": [
        "Shape of array, size of array\n",
        "\n",
        " - shape ... number of elements in each dimension\n",
        " - size ... total number of elements in the array"
      ]
    },
    {
      "cell_type": "code",
      "execution_count": null,
      "metadata": {
        "id": "d7dqngY9b07e"
      },
      "outputs": [],
      "source": [
        "v.shape"
      ]
    },
    {
      "cell_type": "code",
      "execution_count": null,
      "metadata": {
        "id": "TCiFtYPJhIlf"
      },
      "outputs": [],
      "source": [
        "A.shape"
      ]
    },
    {
      "cell_type": "code",
      "execution_count": null,
      "metadata": {
        "id": "_Pa__HCWYSXs"
      },
      "outputs": [],
      "source": [
        "v.size"
      ]
    },
    {
      "cell_type": "code",
      "execution_count": null,
      "metadata": {
        "id": "abR5sml9YSO1"
      },
      "outputs": [],
      "source": [
        "A.size"
      ]
    },
    {
      "cell_type": "markdown",
      "metadata": {
        "id": "Z8fqxu27h3Ns"
      },
      "source": [
        "`ndarray` must have all its elements of the same type. Type can be checked via `dtype` method:"
      ]
    },
    {
      "cell_type": "code",
      "execution_count": null,
      "metadata": {
        "id": "FzbC18MyYSFT"
      },
      "outputs": [],
      "source": [
        "A.dtype"
      ]
    },
    {
      "cell_type": "markdown",
      "metadata": {
        "id": "A3Ib2EsvjEkX"
      },
      "source": [
        "Type of elements of a `ndarray` can be set when creating the object:"
      ]
    },
    {
      "cell_type": "code",
      "execution_count": null,
      "metadata": {
        "id": "X7OkCgCOYR9Y"
      },
      "outputs": [],
      "source": [
        "B = np.array([[1, 2], [101, 102]], dtype='int')\n",
        "\n",
        "B"
      ]
    },
    {
      "cell_type": "markdown",
      "metadata": {
        "id": "9XwmRW2zjcxo"
      },
      "source": [
        "Possible options are: `int`, `float`, `complex`, `bool`, `object`."
      ]
    },
    {
      "cell_type": "markdown",
      "metadata": {
        "id": "LWub6YSAiRiQ"
      },
      "source": [
        "### Array-generating functions\n",
        " = functions that will automatically create an array, so we don't have to specify its elements manually"
      ]
    },
    {
      "cell_type": "code",
      "execution_count": null,
      "metadata": {
        "id": "JskbitxrkOUZ"
      },
      "outputs": [],
      "source": [
        "x = np.arange(start=0, stop=10, step=1)\n",
        "\n",
        "x"
      ]
    },
    {
      "cell_type": "code",
      "execution_count": null,
      "metadata": {
        "id": "zwP3eOpvkXNc"
      },
      "outputs": [],
      "source": [
        "x = np.arange(start=-1, stop=1, step=0.1)\n",
        "\n",
        "x"
      ]
    },
    {
      "cell_type": "code",
      "execution_count": null,
      "metadata": {
        "id": "up1uai98YRz_"
      },
      "outputs": [],
      "source": [
        "zero_mtx = np.zeros([2,3])\n",
        "\n",
        "zero_mtx"
      ]
    },
    {
      "cell_type": "code",
      "execution_count": null,
      "metadata": {
        "id": "outSd_rTYRsT"
      },
      "outputs": [],
      "source": [
        "ones_mtx = np.ones([3,2])\n",
        "\n",
        "ones_mtx"
      ]
    },
    {
      "cell_type": "code",
      "execution_count": null,
      "metadata": {
        "id": "65-BqTSQYRlD"
      },
      "outputs": [],
      "source": [
        "eye_mtx = np.eye(5, dtype = int)\n",
        "\n",
        "eye_mtx"
      ]
    },
    {
      "cell_type": "code",
      "execution_count": null,
      "metadata": {
        "id": "D_gApQQWYRea"
      },
      "outputs": [],
      "source": [
        "eye_mtx.dtype"
      ]
    },
    {
      "cell_type": "code",
      "execution_count": null,
      "metadata": {
        "id": "d3oOYzIWYRYG"
      },
      "outputs": [],
      "source": [
        "# Array of random numbers - each is generated from uniform distribution on (0,1)\n",
        "np.random.rand(3,4)"
      ]
    },
    {
      "cell_type": "code",
      "execution_count": null,
      "metadata": {
        "id": "ICnau1P8YRSF"
      },
      "outputs": [],
      "source": [
        "# Array of random numbers - each is generated from Gaussian curve on (0,1)\n",
        "np.random.randn(3,4)"
      ]
    },
    {
      "cell_type": "markdown",
      "metadata": {
        "id": "0PodfEo06ELw"
      },
      "source": [
        "Just a visualisation - what's the difference:"
      ]
    },
    {
      "cell_type": "code",
      "execution_count": null,
      "metadata": {
        "id": "e9wZ6VhTYRLv"
      },
      "outputs": [],
      "source": [
        "import matplotlib.pyplot as plt\n",
        "plt.figure(figsize=(4,3), dpi=120)\n",
        "plt.plot(np.random.randn(5000), 'b.', alpha = 0.3)\n",
        "plt.plot(np.random.rand(5000), 'r.', alpha=0.3)\n",
        "plt.show()"
      ]
    },
    {
      "cell_type": "code",
      "execution_count": null,
      "metadata": {
        "id": "e5famyFwYRAt"
      },
      "outputs": [],
      "source": [
        "import matplotlib.pyplot as plt\n",
        "plt.figure(figsize=(4, 3), dpi=120)\n",
        "plt.hist(np.random.rand(5000), bins=np.linspace(-4, 4, 50), alpha=0.7)  # Set alpha to 0.5 for transparency\n",
        "plt.hist(np.random.randn(5000), bins=np.linspace(-4, 4, 50), alpha=0.7)  # Set alpha to 0.5 for transparency\n",
        "plt.show()\n"
      ]
    },
    {
      "cell_type": "markdown",
      "metadata": {
        "id": "tb5Ypuc06ELx"
      },
      "source": [
        "(We will learn plotting figures next time.)"
      ]
    },
    {
      "cell_type": "code",
      "execution_count": null,
      "metadata": {
        "id": "nO2gGoin6ELx"
      },
      "outputs": [],
      "source": [
        "# reminder: array with random integers\n",
        "np.random.randint(0, 10, size=(3, 3))"
      ]
    },
    {
      "cell_type": "markdown",
      "metadata": {
        "id": "zoymNVMVqXYG"
      },
      "source": [
        "### Array arithmetics"
      ]
    },
    {
      "cell_type": "markdown",
      "metadata": {
        "id": "kT5oE36A6ELy"
      },
      "source": [
        "Let's have these two matrices:\n",
        "\n",
        "$$ \\mathbb{A} =\n",
        "\\begin{pmatrix}\n",
        "1 & 2 \\\\\n",
        "3 & 4 \\\\\n",
        "\\end{pmatrix} ,\n",
        "\\quad \\quad\n",
        "\\mathbb{B} =\n",
        "\\begin{pmatrix}\n",
        "5 & 6 \\\\\n",
        "7 & 8 \\\\\n",
        "\\end{pmatrix}\n",
        "$$\n",
        "\n"
      ]
    },
    {
      "cell_type": "code",
      "execution_count": null,
      "metadata": {
        "id": "BGygHhbh6ELy"
      },
      "outputs": [],
      "source": [
        "A = np.array([[1, 2],[3, 4]])\n",
        "B = np.array([[5, 6],[7, 8]])"
      ]
    },
    {
      "cell_type": "code",
      "execution_count": null,
      "metadata": {
        "id": "4z5KcnHB6ELy"
      },
      "outputs": [],
      "source": [
        "# sum of those matrices:\n",
        "A+B"
      ]
    },
    {
      "cell_type": "code",
      "execution_count": null,
      "metadata": {
        "id": "oRof5GHA6ELy"
      },
      "outputs": [],
      "source": [
        "A-B"
      ]
    },
    {
      "cell_type": "code",
      "execution_count": null,
      "metadata": {
        "id": "nsL17bOB6ELy"
      },
      "outputs": [],
      "source": [
        "# dot product (cz. maticové násobení)\n",
        "np.dot(A, B)"
      ]
    },
    {
      "cell_type": "code",
      "execution_count": null,
      "metadata": {
        "id": "297Qz0HW6ELy"
      },
      "outputs": [],
      "source": [
        "# or equivalently:\n",
        "A @ B"
      ]
    },
    {
      "cell_type": "markdown",
      "metadata": {
        "id": "lXF3TEzu6ELy"
      },
      "source": [
        "You can test it by hand 😜:\n",
        "\n",
        "$$\n",
        "\\mathbb{A} \\cdot \\mathbb{B} =\n",
        "\\begin{pmatrix}\n",
        "1 & 2 \\\\\n",
        "3 & 4 \\\\\n",
        "\\end{pmatrix}\n",
        "\\cdot\n",
        "\\begin{pmatrix}\n",
        "5 & 6 \\\\\n",
        "7 & 8 \\\\\n",
        "\\end{pmatrix}\n",
        "=\n",
        "\\begin{pmatrix}\n",
        "19 & 22 \\\\\n",
        "43 & 50 \\\\\n",
        "\\end{pmatrix}\n",
        "$$"
      ]
    },
    {
      "cell_type": "code",
      "execution_count": null,
      "metadata": {
        "id": "qHPnPqiV6ELz"
      },
      "outputs": [],
      "source": [
        "# element-wise product (cz. násobení po prvcích)\n",
        "np.multiply(A, B)"
      ]
    },
    {
      "cell_type": "code",
      "execution_count": null,
      "metadata": {
        "id": "Howg8wT66ELz"
      },
      "outputs": [],
      "source": [
        "# or equivalently:\n",
        "A * B"
      ]
    },
    {
      "cell_type": "markdown",
      "metadata": {
        "id": "lRFbrBSUqayn"
      },
      "source": [
        "### Intermezzo: speed comparison (proof that it makes sense to use NumPy)\n",
        "\n",
        "NumPy is much better optimized (in sense of speed of computation). Here I demonstrate it:\n",
        "\n",
        " - below is function `my_dot_product` which multiplies two `list`s (not `ndarray`s)\n",
        " - then it's called with two anonymous lists with randomly generated numbers\n",
        "\n",
        "Time measurement is performed in jupyter notebook via \"magic command\" `%timeit`."
      ]
    },
    {
      "cell_type": "code",
      "execution_count": null,
      "metadata": {
        "id": "qxO5rN9hYQwL"
      },
      "outputs": [],
      "source": [
        "def my_dot_product(list1, list2):\n",
        "    result = 0\n",
        "    for i in range(len(list1)):\n",
        "        result = result + list1[i] * list2[i]\n",
        "\n",
        "    return result"
      ]
    },
    {
      "cell_type": "markdown",
      "metadata": {
        "id": "NR4uvKm96ELz"
      },
      "source": [
        "1. let's measure how quick this function computes:"
      ]
    },
    {
      "cell_type": "code",
      "execution_count": null,
      "metadata": {
        "id": "ch9yU9Pg6EL0"
      },
      "outputs": [],
      "source": [
        "%timeit my_dot_product(list(np.random.randint(0, 10, size=(10000,1))), list(np.random.randint(0, 10, size=(10000,1))))"
      ]
    },
    {
      "cell_type": "markdown",
      "metadata": {
        "id": "o2emg1Oj6EL0"
      },
      "source": [
        "2. now let's perform the same multiplication via native functionality in NumPy:"
      ]
    },
    {
      "cell_type": "code",
      "execution_count": null,
      "metadata": {
        "id": "UMyYD3nv6EL0"
      },
      "outputs": [],
      "source": [
        "%timeit np.random.randint(0, 10, size=(10000,1)).T @ np.random.randint(0, 10, size=(10000,1))"
      ]
    },
    {
      "cell_type": "markdown",
      "metadata": {
        "id": "7s_T4lrR6EL0"
      },
      "source": [
        "The difference is obvious 😉"
      ]
    },
    {
      "cell_type": "code",
      "execution_count": null,
      "metadata": {
        "id": "7Gvw1AUb6EL0"
      },
      "outputs": [],
      "source": [
        "19800 / 360"
      ]
    },
    {
      "cell_type": "code",
      "execution_count": null,
      "metadata": {
        "id": "KGJzCp_u6EL1"
      },
      "outputs": [],
      "source": []
    },
    {
      "cell_type": "markdown",
      "metadata": {
        "id": "KF_29FbI6EL1"
      },
      "source": [
        "### Working with array\n",
        "~ quite similar to lists"
      ]
    },
    {
      "cell_type": "code",
      "execution_count": null,
      "metadata": {
        "id": "9_KV3kdP6EL1"
      },
      "outputs": [],
      "source": [
        "matrix = np.array([[1, 2], [3, 4]], dtype=int)\n",
        "matrix"
      ]
    },
    {
      "cell_type": "markdown",
      "metadata": {
        "id": "m5OQOThx6EL1"
      },
      "source": [
        "Access to elements:"
      ]
    },
    {
      "cell_type": "code",
      "execution_count": null,
      "metadata": {
        "id": "0-FDkELH6EL1"
      },
      "outputs": [],
      "source": [
        "matrix[1, 1]"
      ]
    },
    {
      "cell_type": "markdown",
      "metadata": {
        "id": "zrWkHStZ6EL2"
      },
      "source": [
        "Rewriting elements:"
      ]
    },
    {
      "cell_type": "code",
      "execution_count": null,
      "metadata": {
        "id": "niRDivEX6EL2"
      },
      "outputs": [],
      "source": [
        "matrix[1, 1] = 100\n",
        "matrix"
      ]
    },
    {
      "cell_type": "markdown",
      "metadata": {
        "id": "Q2u7MOCn6EL2"
      },
      "source": [
        "Rewriting whole column/row:"
      ]
    },
    {
      "cell_type": "code",
      "execution_count": null,
      "metadata": {
        "id": "AdrogjDu6EL3"
      },
      "outputs": [],
      "source": [
        "matrix[1,:] = -1\n",
        "matrix"
      ]
    },
    {
      "cell_type": "markdown",
      "metadata": {
        "id": "gg_7WUbx6EL3"
      },
      "source": [
        "From n-D array to 1-D array (\"flattening matrices into long vectors\"):"
      ]
    },
    {
      "cell_type": "code",
      "execution_count": null,
      "metadata": {
        "id": "5XgWDydM6EL3"
      },
      "outputs": [],
      "source": [
        "matrix.flatten()"
      ]
    },
    {
      "cell_type": "markdown",
      "metadata": {
        "id": "mrIlpYSI6EL3"
      },
      "source": [
        "Slicing: allows you to access a portion of an array\n",
        "> `array[start:end:step]`"
      ]
    },
    {
      "cell_type": "code",
      "execution_count": null,
      "metadata": {
        "id": "Q-DOoadk6EL3"
      },
      "outputs": [],
      "source": [
        "arr = np.array([1, 2, 3, 4, 5])\n",
        "arr[1:4]"
      ]
    },
    {
      "cell_type": "code",
      "execution_count": null,
      "metadata": {
        "id": "Bwr8RdM36EL4"
      },
      "outputs": [],
      "source": [
        "arr = np.array([[1, 2, 3], [4, 5, 6]])\n",
        "reshaped_arr = np.reshape(arr, (3, 2))\n",
        "reshaped_arr"
      ]
    },
    {
      "cell_type": "markdown",
      "metadata": {
        "id": "bGAQz6cn6EL4"
      },
      "source": [
        "Concatenation of `ndarray`s:"
      ]
    },
    {
      "cell_type": "code",
      "execution_count": null,
      "metadata": {
        "id": "rE8W0Mk16EL5"
      },
      "outputs": [],
      "source": [
        "C = np.concatenate([A, B], axis=0)\n",
        "C"
      ]
    },
    {
      "cell_type": "code",
      "execution_count": null,
      "metadata": {
        "id": "4NxhzQVi6EL5"
      },
      "outputs": [],
      "source": [
        "D = np.concatenate([A, B], axis=1)\n",
        "D"
      ]
    },
    {
      "cell_type": "markdown",
      "metadata": {
        "id": "Q8vemh2x6EL5"
      },
      "source": [
        "### Mathematical functions\n",
        "\n",
        "NumPy provides wide range of mathematical functions which can be applied on `int` or `float` and also on `ndarray`. They act on `ndarray` *element-wise*.\n",
        "\n",
        "*Examples:*"
      ]
    },
    {
      "cell_type": "markdown",
      "metadata": {
        "id": "DabrJ51A6EL6"
      },
      "source": [
        "#### Trigonometric functions:"
      ]
    },
    {
      "cell_type": "code",
      "execution_count": null,
      "metadata": {
        "id": "UA7BT-Q36EL6"
      },
      "outputs": [],
      "source": [
        "arr = np.array([0, np.pi*2, np.pi])\n",
        "print(\"arr = \", arr)\n",
        "\n",
        "# Sine function\n",
        "sine_values = np.sin(arr)\n",
        "print(\"Sine:\", sine_values)\n",
        "\n",
        "# Cosine function\n",
        "cosine_values = np.cos(arr)\n",
        "print(\"Cosine:\", cosine_values)\n",
        "\n",
        "# Tangent function\n",
        "tangent_values = np.tan(arr)\n",
        "print(\"Tangent:\", tangent_values)"
      ]
    },
    {
      "cell_type": "markdown",
      "metadata": {
        "id": "Hi4kWugn6EL6"
      },
      "source": [
        "#### Exponential and different logarithms:"
      ]
    },
    {
      "cell_type": "code",
      "execution_count": null,
      "metadata": {
        "id": "Uq4pSM9W6EL6"
      },
      "outputs": [],
      "source": [
        "arr = np.array([1, 2, 3])\n",
        "\n",
        "# Exponential function (e^x)\n",
        "exp_values = np.exp(arr)\n",
        "print(\"Exponential:\", exp_values)\n",
        "\n",
        "# Natural logarithm (base e)\n",
        "log_values = np.log(arr)\n",
        "print(\"Natural Logarithm:\", log_values)\n",
        "\n",
        "# Common logarithm (base 10)\n",
        "log10_values = np.log10(arr)\n",
        "print(\"Common Logarithm:\", log10_values)\n",
        "\n",
        "# Logarithm of base 2\n",
        "log2_values = np.log2(arr)\n",
        "print(\"Base 2 Logarithm:\", log2_values)"
      ]
    },
    {
      "cell_type": "markdown",
      "metadata": {
        "id": "6EmiHLX06EL6"
      },
      "source": [
        "#### Basic statistical functions:"
      ]
    },
    {
      "cell_type": "code",
      "execution_count": null,
      "metadata": {
        "id": "TKGGSGIb6EL6"
      },
      "outputs": [],
      "source": [
        "arr = np.array([1, 2, 3, 4, 5])\n",
        "\n",
        "# Mean\n",
        "mean_value = np.mean(arr)\n",
        "print(\"Mean:\", mean_value)\n",
        "\n",
        "# Median\n",
        "median_value = np.median(arr)\n",
        "print(\"Median:\", median_value)\n",
        "\n",
        "# Standard deviation\n",
        "std_value = np.std(arr)\n",
        "print(\"Standard Deviation:\", std_value)\n",
        "\n",
        "# Variance\n",
        "var_value = np.var(arr)\n",
        "print(\"Variance:\", var_value)\n",
        "\n",
        "# Minimum value\n",
        "min_value = np.min(arr)\n",
        "print(\"Minimum Value:\", min_value)\n",
        "\n",
        "# Maximum value\n",
        "max_value = np.max(arr)\n",
        "print(\"Maximum Value:\", max_value)\n"
      ]
    },
    {
      "cell_type": "markdown",
      "metadata": {
        "id": "UcdKsnLQ6EL6"
      },
      "source": [
        "## What was omitted?\n",
        "\n",
        " - reading an array from text file --> next time\n",
        " - plotting values --> next time (different package)\n",
        " - special functions for linear algebra: Fast Fourier Transform, LU decomposition, SVD decomposition, ....\n",
        " - ....\n",
        "\n",
        "\n",
        " some [tutorials on NumPy](https://numpy.org/numpy-tutorials/index.html)\n"
      ]
    },
    {
      "cell_type": "code",
      "execution_count": null,
      "metadata": {
        "id": "bfqKe4mj6EL6"
      },
      "outputs": [],
      "source": []
    },
    {
      "cell_type": "markdown",
      "metadata": {
        "id": "jn9Mw7Wr6EL7"
      },
      "source": [
        "😵‍💫 If you are a little lost, don't worry : next time we start plotting graphs, so we will need to work with NumPy arrays and some functions -> we will see these things one more time **in practice**."
      ]
    },
    {
      "cell_type": "markdown",
      "source": [
        "## ✍️ Try it yourself: *functions again*\n",
        "*task:* write a function `gauss()` that will return a value of Gaussian probability distribution function.\n",
        "Make mean value $\\mu$ (`mu`) and dispersion $\\sigma$ (`sigma`) optional arguments.\n",
        "\n",
        "Hint/reminder:\n",
        "$$\n",
        "    y = \\frac{1}{\\sqrt{2 \\pi \\sigma^2} } e^{- \\frac{(x - \\mu)^2}{2 \\sigma^2}}\n",
        "$$\n",
        "\n",
        "Default values: $\\mu = 0$, $\\sigma = 1$.\n",
        "\n",
        "(more on gaussian curve >> [here](https://en.wikipedia.org/wiki/Normal_distribution))"
      ],
      "metadata": {
        "id": "c33nDbVaQrFT"
      }
    },
    {
      "cell_type": "code",
      "execution_count": null,
      "metadata": {
        "id": "T0cFTiLQ6EL7"
      },
      "outputs": [],
      "source": [
        "def gauss():\n",
        "    pass\n",
        "\n",
        "x = 1\n",
        "y = gauss(x)\n",
        "y = gauss(x, mu=2, sigma=0.2)"
      ]
    },
    {
      "cell_type": "markdown",
      "metadata": {
        "id": "80H5Orhw6EL7"
      },
      "source": [
        "## ✍️ Try it yourself:\n",
        "\n",
        "*task:* write a function, that will take a matrix, and:\n",
        " - check if the matrix is square\n",
        " - if it's square, return its determinant (`np.det(A)`)\n",
        " - if it's *not* rectangular, reshape it so it's square and then return its determinant\n",
        " - if reshaping is not possible (odd number of elements), fill it with ones\n",
        "\n",
        "(use library NumPy)"
      ]
    },
    {
      "cell_type": "code",
      "execution_count": null,
      "metadata": {
        "id": "SCnw3rL16EL7"
      },
      "outputs": [],
      "source": [
        "def generalized_det(A):\n",
        "    pass"
      ]
    },
    {
      "cell_type": "code",
      "execution_count": null,
      "metadata": {
        "id": "GzAyUzZR6EL7"
      },
      "outputs": [],
      "source": [
        "matrix1 = np.array([[1,2,3], [4,5,6]])\n",
        "print(generalized_det(matrix1))"
      ]
    },
    {
      "cell_type": "code",
      "source": [],
      "metadata": {
        "id": "n8-wqhoaOn1x"
      },
      "execution_count": null,
      "outputs": []
    }
  ],
  "metadata": {
    "colab": {
      "provenance": [],
      "toc_visible": true,
      "include_colab_link": true
    },
    "kernelspec": {
      "display_name": "Python 3",
      "name": "python3"
    },
    "language_info": {
      "codemirror_mode": {
        "name": "ipython",
        "version": 3
      },
      "file_extension": ".py",
      "mimetype": "text/x-python",
      "name": "python",
      "nbconvert_exporter": "python",
      "pygments_lexer": "ipython3",
      "version": "3.12.2"
    }
  },
  "nbformat": 4,
  "nbformat_minor": 0
}