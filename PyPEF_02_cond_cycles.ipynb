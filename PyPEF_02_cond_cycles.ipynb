{
  "cells": [
    {
      "cell_type": "markdown",
      "metadata": {
        "id": "view-in-github",
        "colab_type": "text"
      },
      "source": [
        "<a href=\"https://colab.research.google.com/github/aleksejalex/EIEE9E_2025_ZS/blob/main/PyPEF_02_cond_cycles.ipynb\" target=\"_parent\"><img src=\"https://colab.research.google.com/assets/colab-badge.svg\" alt=\"Open In Colab\"/></a>"
      ]
    },
    {
      "cell_type": "markdown",
      "metadata": {
        "id": "BJ38-zM8iNpQ"
      },
      "source": [
        "# EIEE9E, lecture 02. Conditions. Containers. Loops. Functions and classes. Introduction to NumPy.\n",
        "\n",
        "Prepared by: Aleksej Gaj ( pythonforstudents24@gmail.com )\n",
        "\n",
        "🔗 Course website: [https://aleksejgaj.cz/pef_python/](https://aleksejalex.4fan.cz/pef_python/)\n"
      ]
    },
    {
      "cell_type": "markdown",
      "metadata": {
        "id": "ZEI2YaSwiPFc"
      },
      "source": [
        "In this tutorial we familiarize ourselves with\n",
        " - conditional statements in Python and bool values\n",
        " - loops (`for`, `while`)\n",
        " - functions - how to define them and use them\n",
        " - classes - a brief introduction\n",
        " - containers (`list`, `tuple`, `set`, `dict`, `str`)"
      ]
    },
    {
      "cell_type": "markdown",
      "metadata": {
        "id": "29wLZw1gBtVi"
      },
      "source": [
        "## Recall: last time...\n",
        " - basic info about Python (history, philosophy, how to run, ...)\n",
        " - types of variables\n",
        " - condition `if`-`else`"
      ]
    },
    {
      "cell_type": "markdown",
      "metadata": {
        "id": "gkim-1ogBtVl"
      },
      "source": [
        "### Recall: conditions\n",
        "\n",
        "<img src=\"https://external-content.duckduckgo.com/iu/?u=https%3A%2F%2Ftse1.mm.bing.net%2Fth%2Fid%2FOIP.0jVNbfNIjoa9-TcKxII7AAAAAA%3Fcb%3D12%26pid%3DApi&f=1&ipt=9e4972b796e6bfd60fbf11d22d4166f12a56c61192b5bd7ce394f9faf1588a7d&ipo=images\" alt=\"banner\" width=\"230\" align=\"center\"><br>\n",
        "\n",
        "```\n",
        "if CONDITION_THAT_HAS_BOOL_VALUE:\n",
        "    DO_IT_WHEN_COND_IS_TRUE\n",
        "elif OTHER_CONDITION:\n",
        "    DO_IT_WHEN_COND_IS_TRUE\n",
        "else:\n",
        "    DO_THIS_WHEN_CONDITIONS_WERENT_SATISFIED\n",
        "```"
      ]
    },
    {
      "cell_type": "markdown",
      "source": [
        "Example:"
      ],
      "metadata": {
        "id": "g_lnxvyjEv6P"
      }
    },
    {
      "cell_type": "code",
      "execution_count": null,
      "metadata": {
        "id": "570cDj4MiP0n"
      },
      "outputs": [],
      "source": [
        "is_sunny = False\n",
        "\n",
        "if is_sunny == False:\n",
        "    print(f\"It's cloudy. ☁️☁️☁️\")\n",
        "else:\n",
        "    # 'is_sunny' is True\n",
        "    print(f\"Great weather! ☀️☀️☀️\") # note that Python is ok with any UTF8 characters"
      ]
    },
    {
      "cell_type": "code",
      "execution_count": null,
      "metadata": {
        "id": "aO8eccc7BtVq"
      },
      "outputs": [],
      "source": [
        "if type(is_sunny) == bool:\n",
        "    print(f\"'is_sunny' is of boolean type.\")\n",
        "else:\n",
        "    print(\"This line will be never executed (hopefully).\")"
      ]
    },
    {
      "cell_type": "markdown",
      "metadata": {
        "id": "5YooME-oBtVt"
      },
      "source": [
        "Composite conditions - via operators `and`, `or` and `not`:"
      ]
    },
    {
      "cell_type": "code",
      "execution_count": null,
      "metadata": {
        "id": "P1qnvdK9BtVu"
      },
      "outputs": [],
      "source": [
        "is_sunny = True\n",
        "is_weekend = not True\n",
        "\n",
        "if is_sunny or is_weekend:\n",
        "    print(f\"It's sunny or it's weekend today.\")"
      ]
    },
    {
      "cell_type": "code",
      "execution_count": null,
      "metadata": {
        "id": "Iv1QVMVJBtVx"
      },
      "outputs": [],
      "source": [
        "is_weekend = True\n",
        "\n",
        "if is_sunny and is_weekend:\n",
        "    print(f\"It's sunny and weekend. Picnic time! 🥂🏕️\")"
      ]
    },
    {
      "cell_type": "markdown",
      "metadata": {
        "id": "pc3n6SkjBtVy"
      },
      "source": [
        "⚠️ **Operators for comparing**\n",
        " - operator `is` checks for **identity**\n",
        " - operator `==` checks for **equality**\n",
        "\n",
        "Example:"
      ]
    },
    {
      "cell_type": "code",
      "execution_count": null,
      "metadata": {
        "id": "eAZQT3aSBtVz"
      },
      "outputs": [],
      "source": [
        "a = [1, 2, 3]  # let's have two lists - same values, different objects\n",
        "b = [1, 2, 3]  # they're equal, but not the same\n",
        "\n",
        "if a is b:\n",
        "    print(\"a and b reference the same object.\")\n",
        "else:\n",
        "    print(\"a and b reference different objects.\")\n",
        "\n",
        "if a == b:\n",
        "    print(\"The values of a and b are equal.\")\n",
        "else:\n",
        "    print(\"The values of a and b are not equal.\")"
      ]
    },
    {
      "cell_type": "code",
      "execution_count": null,
      "metadata": {
        "id": "PYLsH15rE0GZ"
      },
      "outputs": [],
      "source": [
        "c = a\n",
        "\n",
        "if a is c:\n",
        "    print(\"a and c reference the same object.\")\n",
        "else:\n",
        "    print(\"a and c reference different objects.\")"
      ]
    },
    {
      "cell_type": "markdown",
      "metadata": {
        "id": "8Z3XHeIvBtV0"
      },
      "source": [
        "Even worse (more dangerous) property:"
      ]
    },
    {
      "cell_type": "code",
      "execution_count": null,
      "metadata": {
        "id": "IKQOI-vABtV0"
      },
      "outputs": [],
      "source": [
        "a = [1,2,3]\n",
        "b = a\n",
        "print(f\"a = {a} ; b = {b}\")"
      ]
    },
    {
      "cell_type": "code",
      "execution_count": null,
      "metadata": {
        "id": "aHPzCGuOBtV1"
      },
      "outputs": [],
      "source": [
        "b.append(4) # add 4 to the list b\n",
        "print(f\"a = {a} ; b = {b}\")"
      ]
    },
    {
      "cell_type": "markdown",
      "metadata": {
        "id": "fwh9-Tw4BtV2"
      },
      "source": [
        "Oh no! 🤦‍♂️ How did it happen?\n",
        "\n",
        "Statement `b=a` means that variable a has new handler. But it still the same variable, with same values. (It's like calling your friend by name or by nickname.)\n",
        "\n",
        "💡 To avoid this, we use copy constructor, which creates new instance of required type and copies the value:"
      ]
    },
    {
      "cell_type": "code",
      "execution_count": null,
      "metadata": {
        "id": "jr8Pcn6HBtV2"
      },
      "outputs": [],
      "source": [
        "c = a.copy()\n",
        "print(f\"a = {a} ; c = {c}\")\n",
        "c.append(5)\n",
        "print(f\"a = {a} ; c = {c}\")"
      ]
    },
    {
      "cell_type": "markdown",
      "metadata": {
        "id": "68-2XTmjBtV3"
      },
      "source": [
        "### Solution of homework from last time\n",
        "> \" create a program which writes your name and wether year of your\n",
        "birthday is odd or even\""
      ]
    },
    {
      "cell_type": "code",
      "execution_count": null,
      "metadata": {
        "id": "3CLTayKlBtV4"
      },
      "outputs": [],
      "source": [
        "your_name = input(\"Enter name --> \")\n",
        "your_year_of_birth = input(\"Enter the year you was born --> \")\n",
        "\n",
        "your_name = str(your_name)\n",
        "your_year_of_birth = int(your_year_of_birth)\n",
        "\n",
        "print(f\"So you are {your_name} and you were born in {your_year_of_birth}.\")"
      ]
    },
    {
      "cell_type": "code",
      "execution_count": null,
      "metadata": {
        "id": "UvXCK_LNiQW-"
      },
      "outputs": [],
      "source": [
        "if your_year_of_birth % 2 == 0:\n",
        "    print(f\"The year is even.\")\n",
        "else:\n",
        "    print(f\"The year is odd.\")"
      ]
    },
    {
      "cell_type": "markdown",
      "metadata": {
        "id": "hZrXlpj7BtV-"
      },
      "source": [
        "## Loops `for` and `while`. Keywords `break` and `continue`."
      ]
    },
    {
      "cell_type": "markdown",
      "metadata": {
        "id": "avvPM09yBtV-"
      },
      "source": [
        "### `for` loop"
      ]
    },
    {
      "cell_type": "markdown",
      "metadata": {
        "id": "1_zGMgnOBtV-"
      },
      "source": [
        " - for loop runs a block of code sequentially for given amount of times.\n",
        " - it can iterate over: list, tuple, string, range, set, ...\n",
        "\n",
        "<img src=\"https://media.geeksforgeeks.org/wp-content/uploads/20191101172216/for-loop-python.jpg\"><br>\" alt=\"banner\" width=\"180\" align=\"center\"><br>\n",
        "\n",
        " - structure of for cycle is as follows:\n",
        "```\n",
        "for ITERATOR in ITERATED_OBJ:\n",
        "    CODE_THAT_RUNS_IN_LOOP\n",
        "```"
      ]
    },
    {
      "cell_type": "code",
      "execution_count": null,
      "metadata": {
        "id": "zZ1GrToWBtV_"
      },
      "outputs": [],
      "source": [
        "my_str = \"PEF ČZU\"\n",
        "\n",
        "for letter in my_str:  # reads as \"for each char in 'my_str' do following:\"\n",
        "    print(letter)"
      ]
    },
    {
      "cell_type": "code",
      "execution_count": null,
      "metadata": {
        "id": "NRKpJxmoBtV_"
      },
      "outputs": [],
      "source": [
        "numbers = [10, 20, 30]\n",
        "for number in numbers:  # reads as \"for each number in 'numbers' do following:\"\n",
        "    print(f\"number = {number}\")"
      ]
    },
    {
      "cell_type": "code",
      "execution_count": null,
      "metadata": {
        "id": "BDC_5tqTiQUS"
      },
      "outputs": [],
      "source": [
        "for i in range(3):  # range is specific function used mainly in 'for' loops\n",
        "    print(f\"i = {i}\")"
      ]
    },
    {
      "cell_type": "code",
      "execution_count": null,
      "metadata": {
        "id": "5O2RbLHPBtWA"
      },
      "outputs": [],
      "source": [
        "print(range(3))"
      ]
    },
    {
      "cell_type": "markdown",
      "metadata": {
        "id": "mPEAphn8BtWA"
      },
      "source": [
        "🚨 Reminder: By default Python indexes from zero."
      ]
    },
    {
      "cell_type": "code",
      "execution_count": null,
      "metadata": {
        "id": "b-tASEBHiQRb"
      },
      "outputs": [],
      "source": [
        "for i in range(2,5):\n",
        "    print(f\"i = {i}\")"
      ]
    },
    {
      "cell_type": "code",
      "execution_count": null,
      "metadata": {
        "id": "vtP-rMNYiQO8"
      },
      "outputs": [],
      "source": [
        "my_set = {'Tomorrow', 'never', 'dies', '!'}\n",
        "for i in my_set:\n",
        "    print(f\"i = {i}\")"
      ]
    },
    {
      "cell_type": "markdown",
      "metadata": {
        "id": "iqCSaMjSBtWC"
      },
      "source": [
        "Note: set does not respect any order."
      ]
    },
    {
      "cell_type": "markdown",
      "source": [
        "Another possible usage of `for` cycle is to compute a value of a function in different points.  \\\n",
        "For example, let's find values of $y=x^2$ for all natural $x$ less then 10:\n"
      ],
      "metadata": {
        "id": "elKc7unuhNeR"
      }
    },
    {
      "cell_type": "code",
      "source": [
        "y = 0\n",
        "for x in range(10):\n",
        "    y = x ** 2\n",
        "    print(f\"y = {y}\")"
      ],
      "metadata": {
        "id": "zrMbZZHShMzS"
      },
      "execution_count": null,
      "outputs": []
    },
    {
      "cell_type": "markdown",
      "metadata": {
        "id": "Xx_O47YQBtWC"
      },
      "source": [
        "### `while` loop\n",
        "- runs a block of code *while* a specified condition is `True` ( = until the condition is not fulfilled anymore)\n",
        "\n",
        "```\n",
        "while CONDITION:\n",
        "    DO_IT_WHILE_CONDITION_IS_TRUE\n",
        "```"
      ]
    },
    {
      "cell_type": "code",
      "execution_count": null,
      "metadata": {
        "id": "L0NimKSBiQMH"
      },
      "outputs": [],
      "source": [
        "num = 1000\n",
        "while num > 0.1:\n",
        "    num = num / 2\n",
        "print(num)"
      ]
    },
    {
      "cell_type": "code",
      "execution_count": null,
      "metadata": {
        "id": "O68ElzuYBtWC"
      },
      "outputs": [],
      "source": [
        "num = 2\n",
        "while num < 1000:\n",
        "    num = num * 2\n",
        "print(num)"
      ]
    },
    {
      "cell_type": "markdown",
      "metadata": {
        "id": "IN3VFwXnBtWD"
      },
      "source": [
        "📝 Note: it's simple to create a while that will run forever (until you PC/Colab crashes). So be careful: be sure your condition can be violated (one day). \\\n",
        "*Example* ( 🔥 danger ahead 🔥 ):"
      ]
    },
    {
      "cell_type": "code",
      "execution_count": null,
      "metadata": {
        "id": "u8uxBOBoBtWD"
      },
      "outputs": [],
      "source": [
        "while True:\n",
        "    print('still running..')"
      ]
    },
    {
      "cell_type": "markdown",
      "metadata": {
        "id": "7YkF_bcuBtWD"
      },
      "source": [
        "**How to kill execution:** use Stop icon (or `Ctrl+C`)."
      ]
    },
    {
      "cell_type": "markdown",
      "metadata": {
        "id": "WWpfgYtT52UK"
      },
      "source": [
        "### Influencing run of `while`: `break` and `continue`"
      ]
    },
    {
      "cell_type": "markdown",
      "metadata": {
        "id": "pPp1IhDq5_Ha"
      },
      "source": [
        " - `break` - obviously meant to stop while at this moment and and looping\n",
        " - `continue` - stop current run of loop and continue with another one"
      ]
    },
    {
      "cell_type": "code",
      "execution_count": null,
      "metadata": {
        "id": "T_AkDYvn6KZA"
      },
      "outputs": [],
      "source": [
        "num = 0\n",
        "\n",
        "while num <= 10:\n",
        "    num = num + 1\n",
        "    if num == 4:\n",
        "        break\n",
        "    print(f\"num = {num}\")"
      ]
    },
    {
      "cell_type": "markdown",
      "metadata": {
        "id": "FVq9Y1A56sbb"
      },
      "source": [
        "❓ Why the prints start with `1`? Isn't it strange? 🤔💭"
      ]
    },
    {
      "cell_type": "code",
      "execution_count": null,
      "metadata": {
        "id": "ZTqsOqKo518F"
      },
      "outputs": [],
      "source": [
        "num = 0\n",
        "\n",
        "while num <= 10:\n",
        "    num = num + 1\n",
        "    if num == 4:\n",
        "        continue\n",
        "    print(f\"num = {num}\")"
      ]
    },
    {
      "cell_type": "markdown",
      "metadata": {
        "id": "J7xXHHCt6oV5"
      },
      "source": [
        "❓ Why prints end with `11`? Is it expected behaviour?"
      ]
    },
    {
      "cell_type": "markdown",
      "metadata": {
        "id": "bPci2kq27RGy"
      },
      "source": [
        "Example of potencial usage:\n",
        "\n",
        "```\n",
        "while True:\n",
        "    if desired_condition_happens():\n",
        "        break\n",
        "    if unwanted_situation_reached():\n",
        "        continue\n",
        "    do_something()\n",
        "```\n",
        "i.e. infinitely try to search for solution, the desired solution is recognized with `desired_condition_happens()`, unwanted condition is avoided/\"filtered\" with `unwanted_situation_reached()`.\n",
        "\n",
        "\n",
        "Example:"
      ]
    },
    {
      "cell_type": "code",
      "execution_count": null,
      "metadata": {
        "id": "zcqBqx7VAUMQ"
      },
      "outputs": [],
      "source": [
        "max_num = 10 # starting value, try 10**13\n",
        "is_prime = True\n",
        "\n",
        "num = max_num\n",
        "\n",
        "while num > 1:\n",
        "    num = num - 1  # Decrease number by 1 in each iteration\n",
        "\n",
        "    # check if the number is divisible by any number less than itself\n",
        "    for i in range(2, int(num ** 0.5) + 1):\n",
        "        if num % i == 0:  # if the number is divisible by any other number, it's not prime\n",
        "            is_prime = False\n",
        "            break\n",
        "\n",
        "    if not is_prime:  # if not prime, continue to next iteration\n",
        "        is_prime = True  # reset is_prime for next iteration\n",
        "        continue\n",
        "\n",
        "    # if the number is prime, print it and break the loop\n",
        "    print(f\"The largest prime number below {max_num}) is: {num}\")\n",
        "    break"
      ]
    },
    {
      "cell_type": "markdown",
      "metadata": {
        "id": "wEIHfEJeBtWE"
      },
      "source": [
        "### ✍️ Try it yourself!\n",
        "task: implement a game \"Guess a number\".\n",
        "\n",
        "Program has to do following steps:\n",
        " - choose a random integer between 1 and 10 (pre-prepared below)\n",
        " - user has to guess the number (ask user for the guess)\n",
        " - game ends *either* when user guesses correctly or when user gives up.\n",
        "\n",
        "Hint: use `while` loop with composite condition.\n",
        "  "
      ]
    },
    {
      "cell_type": "code",
      "execution_count": null,
      "metadata": {
        "id": "dvHdQJ6EBtWE"
      },
      "outputs": [],
      "source": [
        "True and False # hint 1"
      ]
    },
    {
      "cell_type": "code",
      "source": [
        "import random\n",
        "number = random.choice(range(1,11)) # how to get random number\n",
        "print(number)"
      ],
      "metadata": {
        "id": "MKfZZcDmFGpP"
      },
      "execution_count": null,
      "outputs": []
    },
    {
      "cell_type": "code",
      "execution_count": null,
      "metadata": {
        "id": "RVI12mLWBtWE"
      },
      "outputs": [],
      "source": [
        "# your code here ..."
      ]
    },
    {
      "cell_type": "markdown",
      "metadata": {
        "id": "5tc89lp3BtWF"
      },
      "source": [
        "## Intermezzo: \"one-liners\".\n",
        " There is a way to write `for` loop and conditions in one line. \\\n",
        "✅ a little shorter code \\\n",
        "❌ less readable code\n"
      ]
    },
    {
      "cell_type": "code",
      "execution_count": null,
      "metadata": {
        "id": "wiZ6EKtABtWF"
      },
      "outputs": [],
      "source": [
        "# one-line for loop\n",
        "even_numbers = [x for x in range(10) if x % 2 == 0]\n",
        "print(even_numbers)"
      ]
    },
    {
      "cell_type": "code",
      "execution_count": null,
      "metadata": {
        "id": "PuejnxhQiQFd"
      },
      "outputs": [],
      "source": [
        "# one-line if-else statement\n",
        "num = 10\n",
        "result = \"Even\" if num % 2 == 0 else \"Odd\"\n",
        "print(result)\n"
      ]
    },
    {
      "cell_type": "markdown",
      "metadata": {
        "id": "YVBNHulGBtWG"
      },
      "source": [
        "## Functions - the important object.\n",
        "\n",
        "Functions in Python looks similar like in other languages.\n",
        "\n",
        "```\n",
        "def name(ARG1, ARG2, ... ):\n",
        "    CODE_EXECUTED\n",
        "    return RETURN_VALUE\n",
        "```"
      ]
    },
    {
      "cell_type": "code",
      "execution_count": null,
      "metadata": {
        "id": "d4PUd7HsBtWG"
      },
      "outputs": [],
      "source": [
        "def say_hello(name):\n",
        "    print(f\"Hello, {name}!\")\n",
        "\n",
        "say_hello(\"Python\")"
      ]
    },
    {
      "cell_type": "markdown",
      "metadata": {
        "id": "MVemavnaBtWG"
      },
      "source": [
        "Some optional (yet useful) tweaks:\n",
        " - documentation - multiline string saying what the function does\n",
        " - default arguments (~ optional arguments): its type and value\n",
        " - return (if funtions shouldn't return anything, it can return `None`)\n",
        " - during development - place holder `pass` (holds spaces, does nothing)\n",
        "    > ```\n",
        "    > def this_function_i_will_implement_later():\n",
        "    >     pass\n",
        "    > ```\n",
        "\n",
        "\n",
        "Let's make that trivial function one more time with all these tweaks:"
      ]
    },
    {
      "cell_type": "code",
      "execution_count": null,
      "metadata": {
        "id": "x_epQXX3BtWH"
      },
      "outputs": [],
      "source": [
        "def say_hello(name: str = \"Python\"):\n",
        "    \"\"\"\n",
        "    function that prints out greeting for specified name.\n",
        "    \"\"\"\n",
        "    print(f\"Hello, {name}!\")\n",
        "    return None\n",
        "\n",
        "# now we can call the function without argument -> default value is used.\n",
        "say_hello()\n",
        "say_hello(\"Alex\")"
      ]
    },
    {
      "cell_type": "markdown",
      "metadata": {
        "id": "I2CY-4L1BtWH"
      },
      "source": [
        "Functions with several arguments (one mandatory, one optional):"
      ]
    },
    {
      "cell_type": "code",
      "execution_count": null,
      "metadata": {
        "id": "QatP-ITmBtWH"
      },
      "outputs": [],
      "source": [
        "def power(base: float, exponent: int = 2):\n",
        "    \"\"\"\n",
        "    Calculates the power of a number.\n",
        "\n",
        "    Parameters:\n",
        "        base (int): The base number.\n",
        "        exponent (int, optional): The exponent. Default is 2.\n",
        "\n",
        "    Returns:\n",
        "        int: The result of base raised to the power of exponent.\n",
        "    \"\"\"\n",
        "    return base ** exponent\n",
        "\n",
        "print(f\"3 squared is {power(3)}\")\n",
        "print(f\"2 in power of 3 is {power(2, 3)}\")\n"
      ]
    },
    {
      "cell_type": "markdown",
      "metadata": {
        "id": "yszCE3ObBtWI"
      },
      "source": [
        "If variables are passed via name, you can pass them in any order:"
      ]
    },
    {
      "cell_type": "code",
      "execution_count": null,
      "metadata": {
        "id": "4lt3n2aQBtWI"
      },
      "outputs": [],
      "source": [
        "power(exponent=8, base = 2)"
      ]
    },
    {
      "cell_type": "markdown",
      "source": [
        "### ✍️ Try it yourself!\n",
        "Write yourself a function that will take a value in euros (EUR) and return a value in czech korunas (CZK).\n",
        "\n",
        "Even if it looks trivial, try to keep all the formalities (comments, checks for incorrect input, etc.)."
      ],
      "metadata": {
        "id": "NGpTYxNsi6T7"
      }
    },
    {
      "cell_type": "code",
      "source": [
        "# your code here ..."
      ],
      "metadata": {
        "id": "ahcHttnXi6AC"
      },
      "execution_count": null,
      "outputs": []
    },
    {
      "cell_type": "markdown",
      "metadata": {
        "id": "nEgKMGqIBtWI"
      },
      "source": [
        "### One-liners again: `lambda` functions\n",
        "\n",
        " - function defined in one line\n",
        " - keyword `lambda`\n",
        " - **any number of input arguments, but only one expression**\n",
        "\n",
        "```\n",
        "NAME_OF_FUNC = lambda ARG1, ARG2: EXPRESSION return VALUE\n",
        "```"
      ]
    },
    {
      "cell_type": "code",
      "execution_count": null,
      "metadata": {
        "id": "oEfOJ7TcBtWI"
      },
      "outputs": [],
      "source": [
        "square = lambda x: x ** 2\n",
        "print(square(5))"
      ]
    },
    {
      "cell_type": "code",
      "execution_count": null,
      "metadata": {
        "id": "IquZbp2-BtWJ"
      },
      "outputs": [],
      "source": [
        "is_dividable = lambda x, y: True if x % y == 0 else False\n",
        "\n",
        "print(f\" 3 is dividable by 2 : {is_dividable(3,2)}\")\n",
        "print(f\" 4 is dividable by 2 : {is_dividable(4,2)}\")"
      ]
    },
    {
      "cell_type": "markdown",
      "source": [
        "Extreme example of one-liners:\n"
      ],
      "metadata": {
        "id": "-1Isld8OnHZD"
      }
    },
    {
      "cell_type": "code",
      "execution_count": null,
      "metadata": {
        "id": "mIatClWwBtWJ"
      },
      "outputs": [],
      "source": [
        "def count_vowels(string):\n",
        "    vowels = \"aeiouAEIOU\"\n",
        "    count = sum(1 for char in string if char in vowels)\n",
        "    return count\n",
        "\n",
        "# Example usage\n",
        "print(count_vowels(\"hello world\"))"
      ]
    },
    {
      "cell_type": "markdown",
      "source": [
        "---\n",
        "---\n",
        "---\n",
        "---"
      ],
      "metadata": {
        "id": "U0qbdbWY3GPL"
      }
    },
    {
      "cell_type": "markdown",
      "metadata": {
        "id": "WhWe7IH4BtWJ"
      },
      "source": [
        "## Classes.\n",
        "\n",
        "= a \"blueprint\" to create objects\n",
        "\n",
        " - defines the properties (attributes) and behaviors (methods) that objects of that class will have\n",
        "\n",
        "Example:\n",
        "Let's imagine we create cats.\n",
        "\n",
        "<img src=\"https://aleksejalex.4fan.cz/pef_python/img/blueprint_of_cat_and_a_cat4.jpeg\" alt=\"banner\" width=\"40%\">\n",
        "\n"
      ]
    },
    {
      "cell_type": "code",
      "execution_count": null,
      "metadata": {
        "id": "of15mdOyBtWJ"
      },
      "outputs": [],
      "source": [
        "class Cat:\n",
        "    def __init__(self, given_name, colour, weight = 12000):\n",
        "        self.name = given_name\n",
        "        self.colour = colour\n",
        "        self.weight = weight  # weight in grams\n",
        "        self.gender = 'male'\n",
        "\n",
        "    def eat(self, amount_of_food):\n",
        "        \"\"\"when it eats, it gains weight\"\"\"\n",
        "        self.weight = self.weight + amount_of_food\n",
        "\n",
        "    def run_around(self, distance = 1):\n",
        "        \"\"\"each km of running makes cat loose 200gr of weight\"\"\"\n",
        "        self.weight = self.weight - 200*distance\n",
        "\n",
        "    def say(self, what_to_say: str = \"meoOow\"):\n",
        "        \"\"\"makes your cat talk\"\"\"\n",
        "        print(f\"Cat {self.name} says: {what_to_say}.\")\n"
      ]
    },
    {
      "cell_type": "code",
      "execution_count": null,
      "metadata": {
        "id": "TolOpE2kBtWK"
      },
      "outputs": [],
      "source": [
        "# define my cat\n",
        "my_cat = Cat(\"Puss\", \"orange\")  # only name was mandatory property\n",
        "\n",
        "print(my_cat)  # just object in memory"
      ]
    },
    {
      "cell_type": "code",
      "execution_count": null,
      "metadata": {
        "id": "-UOewAbsBtWK"
      },
      "outputs": [],
      "source": [
        "# Properties of my cat\n",
        "print(my_cat.name)\n",
        "print(my_cat.weight)"
      ]
    },
    {
      "cell_type": "code",
      "execution_count": null,
      "metadata": {
        "id": "SBvrcpAwBtWK"
      },
      "outputs": [],
      "source": [
        "# let the cat speak for itself:\n",
        "my_cat.say(\"I'm hungry!\")"
      ]
    },
    {
      "cell_type": "code",
      "execution_count": null,
      "metadata": {
        "id": "XSGxySXXBtWK"
      },
      "outputs": [],
      "source": [
        "my_cat.eat(250) # cat eat a tuna can (250grams)\n",
        "print(my_cat.weight)"
      ]
    },
    {
      "cell_type": "markdown",
      "metadata": {
        "id": "I-UTkFb6BtWK"
      },
      "source": [
        "Let's see how our cat burns calories:"
      ]
    },
    {
      "cell_type": "code",
      "execution_count": null,
      "metadata": {
        "id": "9mlqjIOcBtWL"
      },
      "outputs": [],
      "source": [
        "my_cat.run_around(3)  # let it run 3 km\n",
        "print(my_cat.weight)"
      ]
    },
    {
      "cell_type": "code",
      "execution_count": null,
      "metadata": {
        "id": "SbmX8o5dBtWL"
      },
      "outputs": [],
      "source": [
        "neibourghs_cat = Cat(given_name=\"Mathilda\", colour=\"black\", weight=7000)\n"
      ]
    },
    {
      "cell_type": "markdown",
      "metadata": {
        "id": "Fqsn88K7BtWL"
      },
      "source": [
        "### ✍️ Optional homework\n",
        "task: implement a class `Car` and build a garage of your dreams.\n",
        "\n",
        "Technically: `Car` should have some properties (for example: `name`, `license_plate`, `condition`, `color`, `consumption`, ...) and methods (for example: `drive_to()`, `repaint()`, `clean_up()`, `fill_tank()`, ...)\n",
        "\n",
        "Play with those a little to get used to:\n",
        " - defining a class\n",
        " - creating instances (with optional arguments)\n",
        " - using them\n",
        "\n",
        " (of course you can choose any other example, it doesn't have to be `Car` class)"
      ]
    },
    {
      "cell_type": "code",
      "source": [
        "# your code here ..."
      ],
      "metadata": {
        "id": "uXNmdGLuis9z"
      },
      "execution_count": null,
      "outputs": []
    },
    {
      "cell_type": "markdown",
      "metadata": {
        "id": "CsS_W8B1BtV5"
      },
      "source": [
        "## Containers.\n",
        "Python uses several containers:\n",
        " - list\n",
        "\n",
        "\n",
        "| Type         | Description                                | Example                   |\n",
        "|--------------|--------------------------------------------|---------------------------|\n",
        "| list         | Ordered collection of items                | `my_list = [1, 2, 3]`     |\n",
        "| tuple        | Immutable ordered collection of items      | `my_tuple = (1, 2, 3)`    |\n",
        "| set          | Unordered collection of unique items       | `my_set = {1, 2, 3}`      |\n",
        "| dict         | Collection of key-value pairs              | `my_dict = {'eggs': 6, 'apples': 3, 'cookies': \"chocolate\"}`|\n"
      ]
    },
    {
      "cell_type": "markdown",
      "metadata": {
        "id": "WXUUiZ0XBtV5"
      },
      "source": [
        "Properties:"
      ]
    },
    {
      "cell_type": "markdown",
      "source": [
        "| Type   | Ordered?          | Can add new elements?  | Can contain duplicates?  | Example                                                       |\n",
        "|--------|-------------------|------------------------|--------------------------|--------------------------------------------------------------|\n",
        "| list   | ✅                | ✅ (via `.add()`)      | ✅                       | `my_list = [1, 2, 3]`                                        |\n",
        "| tuple  | ✅                | ❌                     | ✅                       | `my_tuple = (1, 2, 3)`                                       |\n",
        "| set    | ❌                | 🟠 (via `.union()`)    | ❌                       | `my_set = {1, 2, 3}`                                         |\n",
        "| dict   | ✅ (newer Python) | 🟠 (via `.update()`)   | ❌                       | `my_dict = {'eggs': 6, 'apples': 3, 'cookies': \"chocolate\"}` |\n",
        "| str    | ✅                | 🟠 (via `concat()`)    | ✅                       | `my_string = \"Hello 2024!\"`                                  |\n"
      ],
      "metadata": {
        "id": "ZKl59ZiDHt34"
      }
    },
    {
      "cell_type": "markdown",
      "metadata": {
        "id": "baUcdVNOBtV6"
      },
      "source": [
        "🚧 Note about **object-oriented programming** (OOP):\n",
        "\n",
        "In OOP, objects are instances of classes. A class defines the structure and behavior of objects, while objects themselves contain data and code (values/properties and methods/procedures).\n",
        "\n",
        "*Example* (try it yourself!):\n",
        "> object name: `capital_city` \\\n",
        "> object type: `str` \\\n",
        "> value : `\"prague\"` \\\n",
        "> method/procedure: `capitalize()`\n",
        "\n",
        "\n",
        "\n",
        "Method/procedure is a function that\n",
        " - either changes the object itself (its data),\n",
        " - or returns a value\n",
        "\n",
        "\n",
        "In Python **everything is considered to be an object!**  "
      ]
    },
    {
      "cell_type": "code",
      "execution_count": null,
      "metadata": {
        "id": "cCMEAfNiBtV7"
      },
      "outputs": [],
      "source": [
        "# list ... most common, universal\n",
        "a_list = [2, 3, 3, 'abc123', 3.14]\n",
        "a_list.append(\"cookie\")\n",
        "print(a_list)"
      ]
    },
    {
      "cell_type": "markdown",
      "metadata": {
        "id": "14VzDgrjBtV7"
      },
      "source": [
        "🚨 Note: By default Python indexes from zero:"
      ]
    },
    {
      "cell_type": "code",
      "execution_count": null,
      "metadata": {
        "id": "PT79Ngl2BtV8"
      },
      "outputs": [],
      "source": [
        "print(f'a_list = {a_list}')\n",
        "print(f'a_list[0] = {a_list[0]}')\n",
        "print(f'a_list[1] = {a_list[1]}')\n",
        "print(f'a_list[:1] = {a_list[:1]}')\n",
        "print(f'a_list[1:] = {a_list[1:]}')"
      ]
    },
    {
      "cell_type": "code",
      "execution_count": null,
      "metadata": {
        "id": "tcMVfyi-BtV8"
      },
      "outputs": [],
      "source": [
        "# tuple ... 'n-tice' in Czech\n",
        "a_tuple = (2, 3, 3, 3.14, 'abc123')\n",
        "print(a_tuple)\n",
        "print(f\"Which index corresponds to element 'abc123'? --> {a_tuple.index('abc123')}\")"
      ]
    },
    {
      "cell_type": "code",
      "execution_count": null,
      "metadata": {
        "id": "KyjRZVDIBtV8"
      },
      "outputs": [],
      "source": [
        "# set ... just as in mathematics\n",
        "a_set = {2, 3, 3.14, '123', 3}  # note that set cannot contain duplicates\n",
        "print(a_set)\n",
        "b_set = {2, 'b'}\n",
        "a_set = a_set.union(b_set)\n",
        "print(a_set)"
      ]
    },
    {
      "cell_type": "code",
      "execution_count": null,
      "metadata": {
        "id": "cY8apdFGBtV9"
      },
      "outputs": [],
      "source": [
        "# dict ... dictionary\n",
        "a_dict = {'eggs': 3, 'flour': \"200 gr\", 'milk': 0.35}\n",
        "print(a_dict)"
      ]
    },
    {
      "cell_type": "code",
      "execution_count": null,
      "metadata": {
        "id": "Hr_fuR5mBtV9"
      },
      "outputs": [],
      "source": [
        "a_dict.update({'cacao': 1, 'fruits': {\"banana\", \"mango\"}})  # adding another dict containing INT and SET\n",
        "print(a_dict)"
      ]
    },
    {
      "cell_type": "code",
      "execution_count": null,
      "metadata": {
        "id": "kxnLMEOHBtV9"
      },
      "outputs": [],
      "source": [
        "my_set = {1, 2, 3}\n",
        "my_set.add(4)\n",
        "print(my_set)  # Output: {1, 2, 3, 4}"
      ]
    },
    {
      "cell_type": "code",
      "source": [],
      "metadata": {
        "id": "zxvZ0yK_n58t"
      },
      "execution_count": null,
      "outputs": []
    }
  ],
  "metadata": {
    "colab": {
      "provenance": [],
      "toc_visible": true,
      "include_colab_link": true
    },
    "kernelspec": {
      "display_name": "Python 3",
      "name": "python3"
    },
    "language_info": {
      "codemirror_mode": {
        "name": "ipython",
        "version": 3
      },
      "file_extension": ".py",
      "mimetype": "text/x-python",
      "name": "python",
      "nbconvert_exporter": "python",
      "pygments_lexer": "ipython3",
      "version": "3.10.13"
    }
  },
  "nbformat": 4,
  "nbformat_minor": 0
}