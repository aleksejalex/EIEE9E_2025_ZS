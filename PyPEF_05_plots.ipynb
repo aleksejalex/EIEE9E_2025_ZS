{
  "cells": [
    {
      "cell_type": "markdown",
      "metadata": {
        "id": "view-in-github",
        "colab_type": "text"
      },
      "source": [
        "<a href=\"https://colab.research.google.com/github/aleksejalex/EIEE9E_2025_ZS/blob/main/PyPEF_05_plots.ipynb\" target=\"_parent\"><img src=\"https://colab.research.google.com/assets/colab-badge.svg\" alt=\"Open In Colab\"/></a>"
      ]
    },
    {
      "cell_type": "markdown",
      "metadata": {
        "id": "BJ38-zM8iNpQ"
      },
      "source": [
        "# EIEE9E, lecture 05. Practical examples of numerical computations. Symbolic computations in Python. Introduction to Plots.\n",
        "\n",
        "Prepared by: Aleksej Gaj ( pythonforstudents24@gmail.com )\n",
        "\n",
        "🔗 Course website: [https://aleksejgaj.cz/pef_python/](https://aleksejgaj.cz/pef_python/)\n"
      ]
    },
    {
      "cell_type": "markdown",
      "metadata": {
        "id": "ZEI2YaSwiPFc"
      },
      "source": [
        "In this tutorial we familiarize ourselves with\n",
        " - a few useful examples to recall library **NumPy** that we have learned about the last time\n",
        " - symbolic expressions and computations in Python - library **SymPy**\n",
        " - plots in Python (library **Matplotlib**)\n"
      ]
    },
    {
      "cell_type": "code",
      "execution_count": null,
      "metadata": {
        "id": "NQXsQvJvN_NP"
      },
      "outputs": [],
      "source": [
        "import numpy as np"
      ]
    },
    {
      "cell_type": "markdown",
      "metadata": {
        "id": "Kocbkyb7Xct2"
      },
      "source": [
        "## 🕓 Recall: NumPy arrays\n",
        " = efficient container for (usually numerical) values of the same type\n",
        "\n",
        "We learnt last time:\n",
        " - create `array` from the `list`:\n",
        " ```python\n",
        " temporary_list = [29, 10, 2025, 16, 30]\n",
        " vector = np.array(temporary_list)\n",
        " ```\n",
        "or \"directly\":\n",
        " ```python\n",
        " vector = np.array([29, 10, 2025, 16, 30])\n",
        " ```\n",
        " (notice where are which brackets)\n",
        "\n",
        " - access element of array:\n",
        " ```python\n",
        " year = vector[2]\n",
        " ```\n",
        "\n",
        " - rewrite element of array:\n",
        " ```python\n",
        " vector[0] = 30\n",
        " ```\n",
        "\n",
        " - array \"slicing\":\n"
      ]
    },
    {
      "cell_type": "code",
      "execution_count": null,
      "metadata": {
        "id": "x6rEBGirXct3"
      },
      "outputs": [],
      "source": [
        "vector = np.array([29, 10, 2025, 16, 30])\n",
        "print(vector[:]) # every element in the list\n",
        "print(vector[:2]) # every element before 2nd element (which is 2025)\n",
        "print(vector[2:]) # every element after 2nd element (including 2nd)\n",
        "print(vector[2:4]) # every element between 2nd and before 4th (including 4th)"
      ]
    },
    {
      "cell_type": "markdown",
      "metadata": {
        "id": "T-clGL75Xct4"
      },
      "source": [
        " - basic mathematical functions used on `numpy.array`s:\n",
        "```python\n",
        "np.sin(vector)\n",
        "np.cos(vector)\n",
        "np.log(vector)\n",
        "np.mean(vector)\n",
        "```\n",
        "and many others..."
      ]
    },
    {
      "cell_type": "markdown",
      "metadata": {
        "id": "wEIHfEJeBtWE"
      },
      "source": [
        "### Solution of the determinant homework (matrices...):\n",
        "\n",
        "*task:* write a function, that will take a matrix, and:\n",
        " - check if the matrix is square\n",
        " - if it's square, return its determinant (`np.det(A)`)\n",
        " - if it's *not* square, reshape it so it's square and then return its determinant\n",
        " - if reshaping is not possible (odd number of elements), fill it with ones\n",
        "\n",
        "(use library NumPy)\n",
        "  "
      ]
    },
    {
      "cell_type": "code",
      "execution_count": null,
      "metadata": {
        "id": "wHNmSie-N_NR"
      },
      "outputs": [],
      "source": [
        "import numpy as np"
      ]
    },
    {
      "cell_type": "markdown",
      "metadata": {
        "id": "xorOpRRrN_NR"
      },
      "source": [
        "*Logic of code:*\n",
        "1. get number of rows and columns in a matrix\n",
        "2. if they are the same, matrix is squared -> return determinant\n",
        "3. reshape: take a matrix of ones of \"the bigger\" size and rewrite some values with values of original matrix"
      ]
    },
    {
      "cell_type": "code",
      "execution_count": null,
      "metadata": {
        "id": "cp-mw1yLN_NT"
      },
      "outputs": [],
      "source": [
        "def extend_to_square(A, fill_value=1):\n",
        "    # Determine the dimensions of the original array\n",
        "    rows, cols = A.shape\n",
        "    max_dim = max(rows, cols)\n",
        "\n",
        "    # Create a new square array filled with the specified value\n",
        "    #A_squared = np.full((max_dim, max_dim), fill_value, dtype=float)\n",
        "    A_squared = np.ones((max_dim, max_dim), dtype=float) #float is needed, otherwise A_squared will round up values of A\n",
        "\n",
        "    # Copy the original array into the upper-left corner of the square array\n",
        "    A_squared[:rows, :cols] = A  # left side: everything in A_squared on rows from 1 to number\n",
        "    #                              'rows' and everything on columns from 1 to number 'cols'\n",
        "\n",
        "    return A_squared"
      ]
    },
    {
      "cell_type": "code",
      "execution_count": null,
      "metadata": {
        "id": "T6HsHbjON_NT"
      },
      "outputs": [],
      "source": [
        "A = np.random.rand(3,2)\n",
        "print(f'A = \\n {A}')\n",
        "Anew = extend_to_square(A)\n",
        "print(f'A_squared = \\n {Anew}')"
      ]
    },
    {
      "cell_type": "code",
      "execution_count": null,
      "metadata": {
        "id": "qwpXRyTVN_NU"
      },
      "outputs": [],
      "source": [
        "def my_det(A):\n",
        "    rows, cols = A.shape\n",
        "    if rows == cols:\n",
        "        return np.linalg.det(A)\n",
        "    else:\n",
        "        Anew = extend_to_square(A)\n",
        "        return np.linalg.det(Anew)"
      ]
    },
    {
      "cell_type": "code",
      "execution_count": null,
      "metadata": {
        "id": "JYovTN1sN_NW"
      },
      "outputs": [],
      "source": [
        "#test it:\n",
        "\n",
        "A1 = np.random.rand(3,3)\n",
        "print(f\"my_det(A1) = {my_det(A1)}\")\n",
        "\n",
        "A2 = np.random.rand(3,2)\n",
        "print(f\"my_det(A2) = {my_det(A2)}\")"
      ]
    },
    {
      "cell_type": "markdown",
      "metadata": {
        "id": "iF01WA9hN_NW"
      },
      "source": [
        "## Useful practice: how to solve $\\mathbb{A} \\cdot \\vec{x} = \\vec{b}$?\n",
        "\n",
        "You definitely remember solving systems of linear equations in primary school.\n",
        "\n",
        "$$\\left\\{\n",
        "\\begin{align*}\n",
        "2x + 3y - z &= 7 \\\\\n",
        "4x - 2y + 5z &= 3 \\\\\n",
        "x + y - 3z &= -2 \\\\\n",
        "\\end{align*} \\right. $$\n",
        "\n",
        "At the beginning of your algebra course, you used matrices for the same task:\n",
        "\n",
        "$$\n",
        "\\mathbb{A} = \\begin{pmatrix}\n",
        "2 & 3 & -1 \\\\\n",
        "4 & -2 & 5 \\\\\n",
        "1 & 1 & -3 \\\\\n",
        "\\end{pmatrix}, \\quad \\vec{b} = \\begin{pmatrix} 7 \\\\ 3 \\\\ -2 \\end{pmatrix}\n",
        "$$\n",
        "\n",
        "and you searched for $\\vec{x} = \\begin{pmatrix} x \\\\ y \\\\ z  \\end{pmatrix}$ as the solution of $\\mathbb{A} \\cdot \\vec{x} = \\vec{b}$.\n"
      ]
    },
    {
      "cell_type": "markdown",
      "metadata": {
        "id": "GjGFtkkDN_NW"
      },
      "source": [
        "Mathematical solution: $\\vec{x} = \\mathbb{A}^{-1} \\cdot \\vec{b} $"
      ]
    },
    {
      "cell_type": "code",
      "execution_count": null,
      "metadata": {
        "id": "zRCVGgTpN_NW"
      },
      "outputs": [],
      "source": [
        "# Let's define A and b from example above using NumPy:\n",
        "import numpy as np\n",
        "\n",
        "A = np.array([[2, 3, -1], [4, -2, 5], [1, 1, -3]])\n",
        "b = np.array([7, 3, -2])"
      ]
    },
    {
      "cell_type": "markdown",
      "metadata": {
        "id": "ooplD4AON_NX"
      },
      "source": [
        "### Aproach 1: do it manually (almost):"
      ]
    },
    {
      "cell_type": "code",
      "execution_count": null,
      "metadata": {
        "id": "mLJJ_MUuN_NX"
      },
      "outputs": [],
      "source": [
        "x = np.linalg.inv(A) @ b\n",
        "x"
      ]
    },
    {
      "cell_type": "code",
      "execution_count": null,
      "metadata": {
        "id": "7UD14d5dN_NX"
      },
      "outputs": [],
      "source": [
        "# \"quality check\":\n",
        "A @ x"
      ]
    },
    {
      "cell_type": "markdown",
      "metadata": {
        "id": "MrCUGyEwN_NX"
      },
      "source": [
        "### Aproach 2: use NumPy solver:"
      ]
    },
    {
      "cell_type": "code",
      "execution_count": null,
      "metadata": {
        "id": "sBbCxbAkN_NZ"
      },
      "outputs": [],
      "source": [
        "xx = np.linalg.solve(A, b)\n",
        "xx"
      ]
    },
    {
      "cell_type": "code",
      "execution_count": null,
      "metadata": {
        "id": "lUJj7l1SN_NZ"
      },
      "outputs": [],
      "source": [
        "# \"quality check\":\n",
        "A @ x"
      ]
    },
    {
      "cell_type": "markdown",
      "metadata": {
        "id": "APPLoqADN_NZ"
      },
      "source": [
        "### Comparison: speed?"
      ]
    },
    {
      "cell_type": "code",
      "execution_count": null,
      "metadata": {
        "id": "w8Kv0p56N_NZ"
      },
      "outputs": [],
      "source": [
        "# approach 1:\n",
        "%timeit np.linalg.inv(   np.random.rand(3, 3)  ) @ np.random.rand(3, 1)"
      ]
    },
    {
      "cell_type": "code",
      "execution_count": null,
      "metadata": {
        "id": "PDtCRxPRN_Na"
      },
      "outputs": [],
      "source": [
        "# approach 2:\n",
        "%timeit np.linalg.solve(   np.random.rand(3, 3), np.random.rand(3, 1) )"
      ]
    },
    {
      "cell_type": "markdown",
      "metadata": {
        "id": "gtvNj7YSN_Na"
      },
      "source": [
        "🤔 ..not a difference, huh?\n",
        "\n",
        "Just *wait for it*:"
      ]
    },
    {
      "cell_type": "code",
      "execution_count": null,
      "metadata": {
        "id": "LwCQHN4RN_Na"
      },
      "outputs": [],
      "source": [
        "# approach 1:\n",
        "%timeit np.linalg.inv(   np.random.rand(3000, 3000)  ) @ np.random.rand(3000, 1)"
      ]
    },
    {
      "cell_type": "code",
      "execution_count": null,
      "metadata": {
        "id": "isg6R0AmN_Na"
      },
      "outputs": [],
      "source": [
        "# approach 2:\n",
        "%timeit np.linalg.solve(   np.random.rand(3000, 3000), np.random.rand(3000, 1) )"
      ]
    },
    {
      "cell_type": "markdown",
      "metadata": {
        "id": "Y93ddsGuN_Na"
      },
      "source": [
        "## Practice 2: system of equations with parameter\n",
        "\n",
        "Now we are able to solve any system of linear equations. But what if it contains a parameter (and we seek for a parametric solution)?\n",
        "\n",
        "*Example:*\n",
        "\n",
        "$$\\left\\{\n",
        "\\begin{align*}\n",
        "2x + \\alpha y - z &= 7 \\\\\n",
        "4 \\alpha x - 2y + 5z &= 3 \\\\\n",
        "x + y - 3 \\alpha z &= -2 \\\\\n",
        "\\end{align*} \\right. $$\n",
        "\n",
        "This time, we cannot use NumPy effectively - since we do not search for a *numeric* solution, but rather *functional*.\n",
        "\n",
        "So we need a solution as $x = x(\\alpha)$, $y = y(\\alpha)$, $z = z(\\alpha)$."
      ]
    },
    {
      "cell_type": "markdown",
      "metadata": {
        "id": "Bha46PDcN_Nb"
      },
      "source": [
        "## SymPy (symbolic computations)\n",
        "<a href=\"https://www.sympy.org/en/index.html\"><img src=\"https://www.sympy.org/static/images/logo.png\" alt=\"banner\" width=\"220\" align=\"right\"></a>\n",
        " = library for symbolic mathematics\n",
        " - it means this library does consider some variables as *real* variables (in matheamtical sense). Such variables are called \"symbols\"\n",
        " - and Python should be explicitly told which variable(s) must be considered as symbols.\n",
        "\n",
        " - a powerful tool (= full-featured computer algebra system)\n",
        " - suitable for: solving equations, basic calculus, differential equations, integral equations, .... [and much more](https://www.sympy.org/en/features.html)\n",
        " - [documentation](https://www.sympy.org/en/index.html)\n",
        " - [live shell to try in your browser](https://www.sympy.org/en/shell.html) ... can be handy when doing some math homework\n",
        " - Fun fact: SymPy was made by our fellow countryman Ondřej Čertík\n"
      ]
    },
    {
      "cell_type": "code",
      "execution_count": null,
      "metadata": {
        "id": "4n_QcFmjN_Nb"
      },
      "outputs": [],
      "source": [
        "import sympy as sp"
      ]
    },
    {
      "cell_type": "code",
      "execution_count": null,
      "metadata": {
        "id": "qmNsespIN_Nb"
      },
      "outputs": [],
      "source": [
        "\n",
        "# Define mathematical variables\n",
        "x, y, z, alpha = sp.symbols('x y z alpha')\n",
        "\n",
        "# Define the equations .... format:  Eq(<left side>, <right side>)\n",
        "eq1 = sp.Eq(2*x + alpha*y - z, 7)\n",
        "eq2 = sp.Eq(4*alpha*x - 2*y + 5*z, 3)\n",
        "eq3 = sp.Eq(x + y - 3*alpha*z, -2)\n",
        "\n",
        "# Solve the system of equations .... format:  solve(<tuple containing eqautions>, <tuple of variables> )\n",
        "solution = sp.solve((eq1, eq2, eq3), (x, y, z))\n",
        "\n",
        "# 'solution' is a Python dictionary\n",
        "\n",
        "# Extract expressions for x, y, and z in terms of alpha\n",
        "x_alpha = solution[x]\n",
        "y_alpha = solution[y]\n",
        "z_alpha = solution[z]\n",
        "\n",
        "# Display the solutions\n",
        "print(\"Parametric solutions:\")\n",
        "print(\"x =\", x_alpha)\n",
        "print(\"y =\", y_alpha)\n",
        "print(\"z =\", z_alpha)"
      ]
    },
    {
      "cell_type": "markdown",
      "metadata": {
        "id": "SpMpXqJTN_Nb"
      },
      "source": [
        "That looks ugly. Better print options:\n",
        " - `sp.printing.pretty_print(x_alpha)` (supported in console)\n",
        " - `sp.init_printing() ` (best for jupyter notebooks and iPython)"
      ]
    },
    {
      "cell_type": "code",
      "execution_count": null,
      "metadata": {
        "id": "ZeoRQJFUN_Nc"
      },
      "outputs": [],
      "source": [
        "sp.init_printing()"
      ]
    },
    {
      "cell_type": "code",
      "execution_count": null,
      "metadata": {
        "id": "fmdChsVGXcuG"
      },
      "outputs": [],
      "source": [
        "x_alpha"
      ]
    },
    {
      "cell_type": "code",
      "execution_count": null,
      "metadata": {
        "id": "0upGQwCiXcuG"
      },
      "outputs": [],
      "source": [
        "x_alpha, y_alpha, z_alpha"
      ]
    },
    {
      "cell_type": "markdown",
      "metadata": {
        "id": "5pyb97MXN_Nc"
      },
      "source": [
        "Alternatively print all together (**jupyter notebooks only!**):"
      ]
    },
    {
      "cell_type": "code",
      "execution_count": null,
      "metadata": {
        "id": "0Zh07K-AN_Nc"
      },
      "outputs": [],
      "source": [
        "from IPython.display import display\n",
        "display(x_alpha, y_alpha, z_alpha)"
      ]
    },
    {
      "cell_type": "markdown",
      "metadata": {
        "id": "0-O5L6fZXcuH"
      },
      "source": [
        "### Further benefits and use: calculus with ease"
      ]
    },
    {
      "cell_type": "markdown",
      "metadata": {
        "id": "IDLJByH9XcuH"
      },
      "source": [
        "✏️ Simplifying expresions like $$\\frac{x^2 + 2x + 1}{x + 1} = ?$$"
      ]
    },
    {
      "cell_type": "code",
      "execution_count": null,
      "metadata": {
        "id": "05WbBKS_XcuH"
      },
      "outputs": [],
      "source": [
        "x, y = sp.symbols('x y')\n",
        "expr = (x**2 + 2*x + 1)/(x + 1)\n",
        "sp.simplify(expr)"
      ]
    },
    {
      "cell_type": "markdown",
      "metadata": {
        "id": "Xgp24CbDXcuI"
      },
      "source": [
        "or harder\n",
        "$$\\frac{\\sin^2(x) + \\cos^4(x)}{\\cos^2(x)}$$"
      ]
    },
    {
      "cell_type": "code",
      "execution_count": null,
      "metadata": {
        "id": "uKhmc2R6XcuI"
      },
      "outputs": [],
      "source": [
        "x = sp.symbols('x')\n",
        "expr = (sp.sin(x)**2 + sp.cos(x)**4) / sp.cos(x)**2\n",
        "sp.simplify(expr)"
      ]
    },
    {
      "cell_type": "markdown",
      "metadata": {
        "id": "3Tw-0xMpXcuJ"
      },
      "source": [
        "✏️ Derivatives, like $$\\frac{d}{dx} \\left(x^3 - 5x^2 + 7x - 2\\right) = ?$$"
      ]
    },
    {
      "cell_type": "code",
      "execution_count": null,
      "metadata": {
        "id": "ZjbdxD6sXcuJ"
      },
      "outputs": [],
      "source": [
        "x = sp.symbols('x')\n",
        "f = x**3 - 5*x**2 + 7*x - 2\n",
        "dfdx = sp.diff(f, x) # Compute the derivative\n",
        "dfdx"
      ]
    },
    {
      "cell_type": "markdown",
      "metadata": {
        "id": "jKq8_keEXcuJ"
      },
      "source": [
        "Of course we can easily evaluate the resulting function (in mathematical sense, not programming) evaluate at a point (cz. *dosadit konkrétní hodnotu*):"
      ]
    },
    {
      "cell_type": "code",
      "execution_count": null,
      "metadata": {
        "id": "am3OAwM_XcuJ"
      },
      "outputs": [],
      "source": [
        "dfdx.subs(x, 2)"
      ]
    },
    {
      "cell_type": "markdown",
      "metadata": {
        "id": "HDdqp2xPXcuK"
      },
      "source": [
        "and convert it to number in Python via ususal retyping `a = float(dfdx.subs(x, 2))`."
      ]
    },
    {
      "cell_type": "markdown",
      "metadata": {
        "id": "1rUoLU26XcuK"
      },
      "source": [
        "✏️ Integrals, like\n",
        "$$\\int \\sin(x) + x^2 \\: d x  = ?$$"
      ]
    },
    {
      "cell_type": "code",
      "execution_count": null,
      "metadata": {
        "id": "fMDLZNanXcuL"
      },
      "outputs": [],
      "source": [
        "# Define g(x)\n",
        "g = sp.sin(x) + x**2\n",
        "\n",
        "# Indefinite integral\n",
        "G = sp.integrate(g, x)\n",
        "G"
      ]
    },
    {
      "cell_type": "markdown",
      "metadata": {
        "id": "i-t497_kXcuL"
      },
      "source": [
        "...or compute *definite* integral\n",
        "$$\\int_{0}^{\\pi} \\sin(x) + x^2 \\: d x  = ?$$"
      ]
    },
    {
      "cell_type": "code",
      "execution_count": null,
      "metadata": {
        "id": "unjLYYdzXcuL"
      },
      "outputs": [],
      "source": [
        "sp.integrate(g, (x, 0, sp.pi))"
      ]
    },
    {
      "cell_type": "code",
      "execution_count": null,
      "metadata": {
        "id": "fqYX7L6PXcuL"
      },
      "outputs": [],
      "source": [
        "sp.integrate(x**3 * sp.ln(x) / (1 + x**2), x)  # some hardcore integral"
      ]
    },
    {
      "cell_type": "code",
      "execution_count": null,
      "metadata": {
        "id": "jrv8VRKMXcuL"
      },
      "outputs": [],
      "source": [
        "sp.diff(sp.exp(sp.sin(x**2)), x)"
      ]
    },
    {
      "cell_type": "markdown",
      "metadata": {
        "id": "hEwhK-S7XcuL"
      },
      "source": [
        "✏️ Compute limits:"
      ]
    },
    {
      "cell_type": "code",
      "execution_count": null,
      "metadata": {
        "id": "N4RP401LXcuM"
      },
      "outputs": [],
      "source": [
        "# Define h(x)\n",
        "h = (sp.sin(x)) / x\n",
        "\n",
        "# Compute limit as x → 0\n",
        "sp.limit(h, x, 0)\n"
      ]
    },
    {
      "cell_type": "markdown",
      "metadata": {
        "id": "wCCa0vY2XcuM"
      },
      "source": [
        "And of course, everything above for multivariate functions:"
      ]
    },
    {
      "cell_type": "code",
      "execution_count": null,
      "metadata": {
        "id": "li2JyqYbXcuM"
      },
      "outputs": [],
      "source": [
        "# Define two variables\n",
        "x, y = sp.symbols('x y')\n",
        "\n",
        "# Example: Cobb–Douglas utility function\n",
        "U = x**0.5 * y**0.5\n",
        "\n",
        "# Partial derivatives\n",
        "Ux = sp.diff(U, x)\n",
        "Uy = sp.diff(U, y)\n",
        "\n",
        "Ux, Uy  # grad(U)"
      ]
    },
    {
      "cell_type": "markdown",
      "metadata": {
        "id": "QyFRAA3IXcuN"
      },
      "source": [
        "### ✍️ Try it yourself\n",
        "Task: using SymPy, find\n",
        "$$ \\lim_{x \\rightarrow 0} \\int \\left( \\frac{x \\cos(x) - \\sin(x)}{x^2} \\right) \\: dx= ?$$"
      ]
    },
    {
      "cell_type": "code",
      "execution_count": null,
      "metadata": {
        "id": "rRsQf9TEXcuN"
      },
      "outputs": [],
      "source": [
        "# you code goes here ..."
      ]
    },
    {
      "cell_type": "markdown",
      "metadata": {
        "id": "alOazo58N_Nc"
      },
      "source": [
        "### Bonus to try: Eigenvalues of a matrix\n",
        "\n",
        "**task:** find eigenvalues of a matrix $\n",
        "\\mathbb{A} = \\begin{pmatrix}\n",
        "2 & 3 & -1 \\\\\n",
        "4 & -2 & 5 \\\\\n",
        "1 & 1 & -3 \\\\\n",
        "\\end{pmatrix} $. Use:\n",
        "1) built-in function in library NumPy\n",
        "2) solve it \"manually\"\n",
        "\n",
        "*Hint*/reminder:\n",
        "\n",
        " - what are eigenvalues (cz. *vlastní čísla matice*) ... [here](https://www.mathsisfun.com/algebra/eigenvalue.html) or [wiki](https://en.wikipedia.org/wiki/Eigenvalues_and_eigenvectors)\n",
        " - eigenvalues $\\lambda$ of matrix $\\mathbb{A}$ satisfy $\\mathbb{A}\\cdot \\vec{x} = \\lambda\\cdot \\vec{x}$\n",
        " - so we need to find such $\\lambda$-s, for which  $\\left( \\mathbb{A}-\\lambda\\mathbb{I} \\right)\\cdot \\vec{x} = \\vec{0}$ has *non-trivial* solution\n",
        " - in other words we search for $\\lambda$ values, for which matrix $\\mathbb{A}-\\lambda\\mathbb{I}$ is not regular  <--> its determinant should be zero\n",
        " - how to get them? find roots of polynomial $p(\\lambda) = \\det \\left( \\mathbb{A} - \\lambda \\mathbb{I} \\right) = 0$\n",
        "\n"
      ]
    },
    {
      "cell_type": "markdown",
      "metadata": {
        "id": "2I3hb4XrN_Nc"
      },
      "source": [
        "*Implementation:*\n",
        " - approach 1: use NumPy to find eigenvalues directly (numerically)\n",
        " - approach 2 (*advanced*): use SymPy to find eigenvalues"
      ]
    },
    {
      "cell_type": "markdown",
      "metadata": {
        "id": "cUKvNiMEN_Nd"
      },
      "source": [
        "*Hint:*\n",
        " - NumPy function: [np.linalg.eig()](https://numpy.org/doc/stable/reference/generated/numpy.linalg.eig.html)\n",
        " - SymPy function: [eigenvals](https://docs.sympy.org/latest/tutorials/intro-tutorial/matrices.html#eigenvalues-eigenvectors-and-diagonalization), you might need to look up how to work with matrices in SymPy"
      ]
    },
    {
      "cell_type": "code",
      "execution_count": null,
      "metadata": {
        "id": "LIB8ZLaFN_Nd"
      },
      "outputs": [],
      "source": [
        "# try it here:\n",
        "A = np.array([[2, 3, -1], [4, -2, 5], [1, 1, -3]])\n"
      ]
    },
    {
      "cell_type": "markdown",
      "metadata": {
        "id": "u_nFhe1IN_Nd"
      },
      "source": [
        "## 📊 Plots: graphical visualisation of nearly anything\n",
        "\n",
        " - important uses:\n",
        "   - visualise your data before analysis (ensure you know what are you going to analyse)\n",
        "   - present results in intuitive form (obvious)\n",
        " - there exist several libraries with endless possibilities:\n",
        "   - **Matplotlib** ... most common, many other libraries use it, suitable also for images [homepage](https://matplotlib.org/)\n",
        "   - **Plotly** ... for interactive plots (for ex.: to embed scalable graph into HTMLK webpage)\n",
        "   - **seaborn** ... statistical data visualisation, high level interface (by default \"more beautiful\" then manual plotting in Matplotlib) [homepage](https://seaborn.pydata.org/)"
      ]
    },
    {
      "cell_type": "markdown",
      "metadata": {
        "id": "MwjlwW8hN_Nd"
      },
      "source": [
        "## Matplotlib\n",
        "<a href=\"https://matplotlib.org/\"><img src=\"https://matplotlib.org/_static/logo_light.svg\" alt=\"banner\" width=\"220\" align=\"right\"></a>\n",
        " = library for plotting graphs, schemes, diagrams, ... any kind of mathematical or statistical visualisation\n",
        "\n"
      ]
    },
    {
      "cell_type": "code",
      "execution_count": null,
      "metadata": {
        "id": "PXgdHBc_N_Nd"
      },
      "outputs": [],
      "source": [
        "# import (note:we import a specific part of matplotlib):\n",
        "import matplotlib.pyplot as plt  # plt is very common shortcut for pyplot"
      ]
    },
    {
      "cell_type": "markdown",
      "metadata": {
        "id": "WDhvb92sN_Nd"
      },
      "source": [
        "Example (the simpliest one):"
      ]
    },
    {
      "cell_type": "code",
      "execution_count": null,
      "metadata": {
        "id": "9YmA78nBN_Nd"
      },
      "outputs": [],
      "source": [
        "plt.figure()\n",
        "plt.plot([1, 2, 3, 4], [1, 4, 2, 3])\n",
        "plt.show()"
      ]
    },
    {
      "cell_type": "markdown",
      "metadata": {
        "id": "XPgE-ZxMN_Ne"
      },
      "source": [
        "Seems strightforward:\n",
        " - `plt.figure()` ... initialisation (\"I'm going to plot something\")\n",
        " - `plt.plot([1, 2, 3, 4], [1, 4, 2, 3]) ` ... function that takes the data and plots them\n",
        " - `plt.show() ` ... ending command (\"Hey, stop plotting, show me the result\")\n",
        "\n",
        "*Note:* `plt.show()` is not mandatory in jupyter notebook, but it's a good practice to include it, since scripted Python requires it"
      ]
    },
    {
      "cell_type": "markdown",
      "metadata": {
        "id": "2WHwg3tAN_Ne"
      },
      "source": [
        "In our example, we wanted to plot points, but line was plotted. Let's fix it:"
      ]
    },
    {
      "cell_type": "code",
      "execution_count": null,
      "metadata": {
        "id": "KZubNkO-N_Ne"
      },
      "outputs": [],
      "source": [
        "plt.figure()\n",
        "x = [1, 2, 3, 4]\n",
        "y = [1, 4, 2, 3]\n",
        "plt.plot(x, y, color='green', marker='.', linestyle=' ')\n",
        "plt.show()"
      ]
    },
    {
      "cell_type": "markdown",
      "metadata": {
        "id": "48O8CdFqN_Ne"
      },
      "source": [
        "Before getting further in plotting - let's try plotting a Gaussian pdf that we have implementred at home:"
      ]
    },
    {
      "cell_type": "markdown",
      "metadata": {
        "id": "hy8umUnHmcN8"
      },
      "source": [
        "### Solution of optional homework 1 (gaussian pdf):\n",
        "*task:* write a function `gauss()` that will return a value of Gaussian probability distribution function.\n",
        "Make mean value $\\mu$ (`mu`) and dispersion $\\sigma$ (`sigma`) optional arguments.\n",
        "\n",
        "Hint/reminder:\n",
        "$$\n",
        "    y = \\frac{1}{\\sqrt{2 \\pi \\sigma^2} } e^{- \\frac{(x - \\mu)^2}{2 \\sigma^2}}\n",
        "$$\n",
        "\n",
        "Default values: $\\mu = 0$, $\\sigma = 1$.\n",
        "\n",
        "(more on gaussian curve >> [here](https://en.wikipedia.org/wiki/Normal_distribution))"
      ]
    },
    {
      "cell_type": "code",
      "execution_count": null,
      "metadata": {
        "id": "1rpMqqYCm449"
      },
      "outputs": [],
      "source": [
        "import numpy as np\n",
        "\n",
        "def gauss(x, mu=0, sigma=1):\n",
        "    return 1/(np.sqrt(2*np.pi*sigma**2)) * np.exp(- ((x-mu)**2)/(2*sigma**2))\n",
        "\n",
        "x = 1\n",
        "y = gauss(x)\n",
        "print(y)\n",
        "y = gauss(x, mu=2, sigma=0.2)\n",
        "print(y)"
      ]
    },
    {
      "cell_type": "markdown",
      "metadata": {
        "id": "c7Q9irteN_Nf"
      },
      "source": [
        "📝 Recall from NumPy: there are two ways how to set argument values:\n",
        " - `np.linspace(START, STOP, NUM)` ...generates `NUM` evenly spaced numbers over the closed interval [`START`, `STOP`]\n",
        " - `np.arange(START, STOP, STEP)` ...generates numbers in the half-open interval [`START`, `STOP`) with a specified `STEP` size."
      ]
    },
    {
      "cell_type": "code",
      "execution_count": null,
      "metadata": {
        "id": "S59q_UJfN_Nf"
      },
      "outputs": [],
      "source": [
        "x = np.arange(-3, 3, 0.1)"
      ]
    },
    {
      "cell_type": "markdown",
      "metadata": {
        "id": "ZAifUSCAN_Nf"
      },
      "source": [
        "Now let's plot it! (you can plot your own solution of the homework if you want to)"
      ]
    },
    {
      "cell_type": "code",
      "execution_count": null,
      "metadata": {
        "id": "zuiQG0qmN_Nf"
      },
      "outputs": [],
      "source": [
        "# your code here"
      ]
    },
    {
      "cell_type": "code",
      "execution_count": null,
      "metadata": {
        "id": "eH5C0vDJN_Ng"
      },
      "outputs": [],
      "source": []
    },
    {
      "cell_type": "markdown",
      "metadata": {
        "id": "7VCvV_y1N_Ng"
      },
      "source": [
        "Now we can see one more time, how using NumPy functions is useful:\n",
        "`y = gauss(x)` means function `gauss` takes whole array `x` as an argument and returns array `y` (it *does not* take elements of x one by one). Mathematically it doesn't matter. Technically - it's possible thanks to functions `np.exp` and `np.sqrt` that can map `np.array` to `np.array` (for details - see previous lecture)."
      ]
    },
    {
      "cell_type": "markdown",
      "metadata": {
        "id": "WdXumRvsN_Ng"
      },
      "source": [
        "### Several plots in one figure\n",
        "of course in many situations it's convenient to see several functions in one plot:"
      ]
    },
    {
      "cell_type": "code",
      "execution_count": null,
      "metadata": {
        "id": "7Ea7cAFxN_Ng"
      },
      "outputs": [],
      "source": [
        "x = np.arange(-3, 3, 0.01)\n",
        "\n",
        "plt.figure()\n",
        "plt.plot(x, gauss(x))\n",
        "plt.plot(x, gauss(x, mu=1))\n",
        "plt.plot(x, gauss(x, mu=-1.5, sigma=0.7))\n",
        "plt.show()"
      ]
    },
    {
      "cell_type": "markdown",
      "metadata": {
        "id": "3bCn3kQeN_Ng"
      },
      "source": [
        "### Make your plots visually acceptable\n",
        "What every plot (graph) *should* have:\n",
        " - title of axes (what is on `x`, what is on `y`)\n",
        " - legend - in case you plot several graphs in one image\n",
        " - title of figure (can be omitted if you add desription in you Word/PowerPoint/LaTeX document)\n",
        "\n",
        "Sometimes is useful:\n",
        " - grid\n",
        "\n",
        "Let's see how all this add to our plot above:"
      ]
    },
    {
      "cell_type": "code",
      "execution_count": null,
      "metadata": {
        "id": "90N_jg5NN_Nh"
      },
      "outputs": [],
      "source": [
        "x = np.arange(-3, 3, 0.01)\n",
        "\n",
        "plt.figure()\n",
        "plt.plot(x, gauss(x))\n",
        "plt.plot(x, gauss(x, mu=1))\n",
        "plt.plot(x, gauss(x, mu=-1.5, sigma=0.7))\n",
        "plt.xlabel(\"x from -3 to 3\")\n",
        "plt.ylabel(\"y (values of function)\")\n",
        "plt.title(\"Our plot of Gauss() function fith different parameters\")\n",
        "plt.legend(['mu=0, sigma=1','mu=1, sigma=1', 'mu=-1.5, sigma=0.7'])\n",
        "plt.grid()\n",
        "plt.show()"
      ]
    },
    {
      "cell_type": "markdown",
      "metadata": {
        "id": "K75qjJdgN_Nh"
      },
      "source": [
        "✨ set figure size, dpi, and save it as PNG or SVG:"
      ]
    },
    {
      "cell_type": "code",
      "execution_count": null,
      "metadata": {
        "id": "78H9AXzpN_Nh"
      },
      "outputs": [],
      "source": [
        "x = np.arange(-3, 3, 0.01)\n",
        "\n",
        "plt.figure(figsize=(7,4), dpi=120)\n",
        "plt.plot(x, gauss(x))\n",
        "plt.plot(x, gauss(x, mu=1))\n",
        "plt.plot(x, gauss(x, mu=-1.5, sigma=0.7))\n",
        "plt.xlabel(\"x from -3 to 3\")\n",
        "plt.ylabel(\"y (values of function)\")\n",
        "plt.title(\"Our plot of Gauss() function fith different parameters\")\n",
        "plt.legend(['mu=0, sigma=1','mu=1, sigma=1', 'mu=-1.5, sigma=0.7'])\n",
        "plt.grid()\n",
        "plt.savefig(\"my_gauss.png\", dpi=230)\n",
        "plt.show()"
      ]
    },
    {
      "cell_type": "markdown",
      "metadata": {
        "id": "CzDhBB_sN_Nh"
      },
      "source": [
        "🎨 Get creative: change colors, change `figsize` (it deforms the plot), ... \\\n",
        "Deforming a plot ( = changing aspect ratio) is very useful when you need to squeeze a graph on a page with text... or a slide..."
      ]
    },
    {
      "cell_type": "markdown",
      "metadata": {
        "id": "bCJjvIqMQpOH"
      },
      "source": [
        "### Other type of plots - next time!\n",
        "Until then you can have a look on those basic plot types: [here](https://matplotlib.org/stable/plot_types/index.html)"
      ]
    },
    {
      "cell_type": "markdown",
      "metadata": {
        "id": "vO_MuvtaN_Nh"
      },
      "source": [
        "### ✍️ Try it yourself (Optional homework):\n",
        "**task:** plot\n",
        " - in one figure sinus and cosinus\n",
        " - in second figure exponential and logarithm function\n",
        "\n",
        "In each graph make functions of different color of your choice and of course don't forget to add labels to axes, legend,.... Consider grid. Export as PNG and SVG.\n",
        "\n",
        "Use NumPy and Matplotlib libraries."
      ]
    },
    {
      "cell_type": "code",
      "execution_count": null,
      "metadata": {
        "id": "uD_rmiWrN_Ni"
      },
      "outputs": [],
      "source": []
    },
    {
      "cell_type": "markdown",
      "metadata": {
        "id": "R0L256J-N_Ni"
      },
      "source": [
        "### Optional homework 2:\n",
        "**task:** compute a mean (cz. *střední hodnota*) and median of each of functions you plotted above. Copy your solution from above and plot a mean value of each function as a red dot."
      ]
    },
    {
      "cell_type": "code",
      "execution_count": null,
      "metadata": {
        "id": "33MML9Y9N_Ni"
      },
      "outputs": [],
      "source": []
    },
    {
      "cell_type": "code",
      "execution_count": null,
      "metadata": {
        "id": "bs3Ck2b4N_Ni"
      },
      "outputs": [],
      "source": []
    },
    {
      "cell_type": "code",
      "execution_count": null,
      "metadata": {
        "id": "t7tPTRgWSuZg"
      },
      "outputs": [],
      "source": [
        "raise Exception(\"End of notebook.\")"
      ]
    },
    {
      "cell_type": "markdown",
      "metadata": {
        "id": "j3Xo0TbvN_Ni"
      },
      "source": [
        "## P.S.\n",
        "\n",
        "(following cell can be compiled successfully only on machine with LaTeX properly installed.)"
      ]
    },
    {
      "cell_type": "code",
      "execution_count": null,
      "metadata": {
        "id": "SgQMWtVyQIvr"
      },
      "outputs": [],
      "source": [
        "# Enable LaTeX processing\n",
        "plt.rcParams.update({\n",
        "    \"text.usetex\": True\n",
        "})"
      ]
    },
    {
      "cell_type": "code",
      "execution_count": null,
      "metadata": {
        "id": "xoCQgOYWN_Nj"
      },
      "outputs": [],
      "source": [
        "x = np.arange(-3, 3, 0.01)\n",
        "\n",
        "plt.figure(figsize=(7,4), dpi=120)\n",
        "plt.plot(x, gauss(x))\n",
        "plt.plot(x, gauss(x, mu=1))\n",
        "plt.plot(x, gauss(x, mu=-1.5, sigma=0.7))\n",
        "plt.xlabel(r\"$x \\in  \\left[ -3, 3  \\right] $\")\n",
        "plt.ylabel(r\"$y \\in \\mathrm{R}$ (values of function)\")\n",
        "plt.title(r\"Our plot of $y = \\frac{1}{\\sqrt{2 \\pi \\sigma^2} } e^{- \\frac{(x - \\mu)^2}{2 \\sigma^2}}$ fith different parameters\")\n",
        "plt.legend([r\"$\\mu=0$, $\\sigma=1$\", r\"$\\mu=1$, $\\sigma=1$\", r\"$\\mu=-1.5$, $\\sigma=0.7$\"])\n",
        "plt.grid()\n",
        "plt.savefig(\"my_gauss_with_LaTeX_labels.png\", dpi=230)\n",
        "plt.show()"
      ]
    },
    {
      "cell_type": "code",
      "execution_count": null,
      "metadata": {
        "id": "vS6cUrWxVKcy"
      },
      "outputs": [],
      "source": []
    }
  ],
  "metadata": {
    "colab": {
      "generative_ai_disabled": true,
      "provenance": [],
      "include_colab_link": true
    },
    "kernelspec": {
      "display_name": "Python 3",
      "name": "python3"
    },
    "language_info": {
      "codemirror_mode": {
        "name": "ipython",
        "version": 3
      },
      "file_extension": ".py",
      "mimetype": "text/x-python",
      "name": "python",
      "nbconvert_exporter": "python",
      "pygments_lexer": "ipython3",
      "version": "3.12.2"
    }
  },
  "nbformat": 4,
  "nbformat_minor": 0
}